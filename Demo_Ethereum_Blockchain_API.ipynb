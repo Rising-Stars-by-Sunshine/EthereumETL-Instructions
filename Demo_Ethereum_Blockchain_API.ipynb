{
  "nbformat": 4,
  "nbformat_minor": 0,
  "metadata": {
    "colab": {
      "provenance": [],
      "authorship_tag": "ABX9TyN4rEnazagcX0Zqp4Z7jAly",
      "include_colab_link": true
    },
    "kernelspec": {
      "name": "python3",
      "display_name": "Python 3"
    },
    "language_info": {
      "name": "python"
    },
    "gpuClass": "standard"
  },
  "cells": [
    {
      "cell_type": "markdown",
      "metadata": {
        "id": "view-in-github",
        "colab_type": "text"
      },
      "source": [
        "<a href=\"https://colab.research.google.com/github/sunshineluyao/EthereumETL-Instructions/blob/main/Demo_Ethereum_Blockchain_API.ipynb\" target=\"_parent\"><img src=\"https://colab.research.google.com/assets/colab-badge.svg\" alt=\"Open In Colab\"/></a>"
      ]
    },
    {
      "cell_type": "markdown",
      "source": [
        "**References**: https://github.com/blockchain-etl/ethereum-etl"
      ],
      "metadata": {
        "id": "IqCqGO0YkHLs"
      }
    },
    {
      "cell_type": "markdown",
      "source": [
        "# Part I: Install Required Dependancies "
      ],
      "metadata": {
        "id": "Bl3_PJmXkXdp"
      }
    },
    {
      "cell_type": "code",
      "execution_count": null,
      "metadata": {
        "colab": {
          "base_uri": "https://localhost:8080/"
        },
        "id": "5LmO9IFQpoWI",
        "outputId": "14cafc6c-2bb5-4629-96e8-9089fa4372ff"
      },
      "outputs": [
        {
          "output_type": "stream",
          "name": "stdout",
          "text": [
            "Looking in indexes: https://pypi.org/simple, https://us-python.pkg.dev/colab-wheels/public/simple/\n",
            "Collecting ethereum-etl\n",
            "  Downloading ethereum-etl-2.1.1.tar.gz (336 kB)\n",
            "\u001b[K     |████████████████████████████████| 336 kB 5.2 MB/s \n",
            "\u001b[?25hRequirement already satisfied: pandas in /usr/local/lib/python3.7/dist-packages (1.3.5)\n",
            "Collecting web3<6,>=5.29\n",
            "  Downloading web3-5.31.1-py3-none-any.whl (501 kB)\n",
            "\u001b[K     |████████████████████████████████| 501 kB 30.9 MB/s \n",
            "\u001b[?25hCollecting eth-utils==1.10\n",
            "  Downloading eth_utils-1.10.0-py3-none-any.whl (24 kB)\n",
            "Collecting eth-abi==2.1.1\n",
            "  Downloading eth_abi-2.1.1-py3-none-any.whl (27 kB)\n",
            "Requirement already satisfied: python-dateutil<3,>=2.8.0 in /usr/local/lib/python3.7/dist-packages (from ethereum-etl) (2.8.2)\n",
            "Collecting click==8.0.4\n",
            "  Downloading click-8.0.4-py3-none-any.whl (97 kB)\n",
            "\u001b[K     |████████████████████████████████| 97 kB 1.4 MB/s \n",
            "\u001b[?25hCollecting ethereum-dasm==0.1.4\n",
            "  Downloading ethereum_dasm-0.1.4-py3-none-any.whl (44 kB)\n",
            "\u001b[K     |████████████████████████████████| 44 kB 1.8 MB/s \n",
            "\u001b[?25hCollecting base58\n",
            "  Downloading base58-2.1.1-py3-none-any.whl (5.6 kB)\n",
            "Requirement already satisfied: requests in /usr/local/lib/python3.7/dist-packages (from ethereum-etl) (2.23.0)\n",
            "Requirement already satisfied: importlib-metadata in /usr/local/lib/python3.7/dist-packages (from click==8.0.4->ethereum-etl) (4.13.0)\n",
            "Collecting parsimonious<0.9.0,>=0.8.0\n",
            "  Downloading parsimonious-0.8.1.tar.gz (45 kB)\n",
            "\u001b[K     |████████████████████████████████| 45 kB 1.3 MB/s \n",
            "\u001b[?25hCollecting eth-typing<3.0.0,>=2.0.0\n",
            "  Downloading eth_typing-2.3.0-py3-none-any.whl (6.2 kB)\n",
            "Collecting cytoolz<1.0.0,>=0.10.1\n",
            "  Downloading cytoolz-0.12.0-cp37-cp37m-manylinux_2_17_x86_64.manylinux2014_x86_64.whl (1.6 MB)\n",
            "\u001b[K     |████████████████████████████████| 1.6 MB 34.1 MB/s \n",
            "\u001b[?25hCollecting eth-hash<0.4.0,>=0.3.1\n",
            "  Downloading eth_hash-0.3.3-py3-none-any.whl (8.9 kB)\n",
            "Requirement already satisfied: tabulate in /usr/local/lib/python3.7/dist-packages (from ethereum-dasm==0.1.4->ethereum-etl) (0.8.10)\n",
            "Collecting evmdasm\n",
            "  Downloading evmdasm-0.1.10-py3-none-any.whl (14 kB)\n",
            "Collecting colorama\n",
            "  Downloading colorama-0.4.6-py2.py3-none-any.whl (25 kB)\n",
            "Requirement already satisfied: toolz>=0.8.0 in /usr/local/lib/python3.7/dist-packages (from cytoolz<1.0.0,>=0.10.1->eth-utils==1.10->ethereum-etl) (0.12.0)\n",
            "Requirement already satisfied: six>=1.9.0 in /usr/local/lib/python3.7/dist-packages (from parsimonious<0.9.0,>=0.8.0->eth-abi==2.1.1->ethereum-etl) (1.15.0)\n",
            "Collecting ipfshttpclient==0.8.0a2\n",
            "  Downloading ipfshttpclient-0.8.0a2-py3-none-any.whl (82 kB)\n",
            "\u001b[K     |████████████████████████████████| 82 kB 685 kB/s \n",
            "\u001b[?25hCollecting hexbytes<1.0.0,>=0.1.0\n",
            "  Downloading hexbytes-0.3.0-py3-none-any.whl (6.4 kB)\n",
            "Collecting eth-account<0.6.0,>=0.5.9\n",
            "  Downloading eth_account-0.5.9-py3-none-any.whl (101 kB)\n",
            "\u001b[K     |████████████████████████████████| 101 kB 10.3 MB/s \n",
            "\u001b[?25hCollecting websockets<10,>=9.1\n",
            "  Downloading websockets-9.1-cp37-cp37m-manylinux2010_x86_64.whl (103 kB)\n",
            "\u001b[K     |████████████████████████████████| 103 kB 63.2 MB/s \n",
            "\u001b[?25hCollecting protobuf==3.19.5\n",
            "  Downloading protobuf-3.19.5-cp37-cp37m-manylinux_2_17_x86_64.manylinux2014_x86_64.whl (1.1 MB)\n",
            "\u001b[K     |████████████████████████████████| 1.1 MB 51.9 MB/s \n",
            "\u001b[?25hCollecting eth-hash[pycryptodome]<1.0.0,>=0.2.0\n",
            "  Downloading eth_hash-0.5.0-py3-none-any.whl (8.9 kB)\n",
            "Requirement already satisfied: aiohttp<4,>=3.7.4.post0 in /usr/local/lib/python3.7/dist-packages (from web3<6,>=5.29->ethereum-etl) (3.8.3)\n",
            "Collecting eth-rlp<0.3\n",
            "  Downloading eth_rlp-0.2.1-py3-none-any.whl (5.0 kB)\n",
            "Collecting lru-dict<2.0.0,>=1.1.6\n",
            "  Downloading lru_dict-1.1.8-cp37-cp37m-manylinux_2_5_x86_64.manylinux1_x86_64.manylinux_2_17_x86_64.manylinux2014_x86_64.whl (26 kB)\n",
            "Requirement already satisfied: jsonschema<5,>=3.2.0 in /usr/local/lib/python3.7/dist-packages (from web3<6,>=5.29->ethereum-etl) (4.3.3)\n",
            "Requirement already satisfied: typing-extensions<5,>=3.7.4.1 in /usr/local/lib/python3.7/dist-packages (from web3<6,>=5.29->ethereum-etl) (4.1.1)\n",
            "Collecting multiaddr>=0.0.7\n",
            "  Downloading multiaddr-0.0.9-py2.py3-none-any.whl (16 kB)\n",
            "Requirement already satisfied: multidict<7.0,>=4.5 in /usr/local/lib/python3.7/dist-packages (from aiohttp<4,>=3.7.4.post0->web3<6,>=5.29->ethereum-etl) (6.0.2)\n",
            "Requirement already satisfied: charset-normalizer<3.0,>=2.0 in /usr/local/lib/python3.7/dist-packages (from aiohttp<4,>=3.7.4.post0->web3<6,>=5.29->ethereum-etl) (2.1.1)\n",
            "Requirement already satisfied: yarl<2.0,>=1.0 in /usr/local/lib/python3.7/dist-packages (from aiohttp<4,>=3.7.4.post0->web3<6,>=5.29->ethereum-etl) (1.8.1)\n",
            "Requirement already satisfied: aiosignal>=1.1.2 in /usr/local/lib/python3.7/dist-packages (from aiohttp<4,>=3.7.4.post0->web3<6,>=5.29->ethereum-etl) (1.2.0)\n",
            "Requirement already satisfied: frozenlist>=1.1.1 in /usr/local/lib/python3.7/dist-packages (from aiohttp<4,>=3.7.4.post0->web3<6,>=5.29->ethereum-etl) (1.3.1)\n",
            "Requirement already satisfied: asynctest==0.13.0 in /usr/local/lib/python3.7/dist-packages (from aiohttp<4,>=3.7.4.post0->web3<6,>=5.29->ethereum-etl) (0.13.0)\n",
            "Requirement already satisfied: attrs>=17.3.0 in /usr/local/lib/python3.7/dist-packages (from aiohttp<4,>=3.7.4.post0->web3<6,>=5.29->ethereum-etl) (22.1.0)\n",
            "Requirement already satisfied: async-timeout<5.0,>=4.0.0a3 in /usr/local/lib/python3.7/dist-packages (from aiohttp<4,>=3.7.4.post0->web3<6,>=5.29->ethereum-etl) (4.0.2)\n",
            "Collecting eth-keyfile<0.6.0,>=0.5.0\n",
            "  Downloading eth_keyfile-0.5.1-py3-none-any.whl (8.3 kB)\n",
            "Collecting eth-keys<0.4.0,>=0.3.4\n",
            "  Downloading eth_keys-0.3.4-py3-none-any.whl (21 kB)\n",
            "Collecting rlp<3,>=1.0.0\n",
            "  Downloading rlp-2.0.1-py2.py3-none-any.whl (20 kB)\n",
            "Collecting bitarray<3,>=1.2.1\n",
            "  Downloading bitarray-2.6.0-cp37-cp37m-manylinux_2_17_x86_64.manylinux2014_x86_64.whl (235 kB)\n",
            "\u001b[K     |████████████████████████████████| 235 kB 44.9 MB/s \n",
            "\u001b[?25hCollecting eth-hash[pycryptodome]<1.0.0,>=0.2.0\n",
            "  Downloading eth_hash-0.4.0-py3-none-any.whl (9.0 kB)\n",
            "Collecting pycryptodome<4,>=3.6.6\n",
            "  Downloading pycryptodome-3.15.0-cp35-abi3-manylinux2010_x86_64.whl (2.3 MB)\n",
            "\u001b[K     |████████████████████████████████| 2.3 MB 54.7 MB/s \n",
            "\u001b[?25hRequirement already satisfied: pyrsistent!=0.17.0,!=0.17.1,!=0.17.2,>=0.14.0 in /usr/local/lib/python3.7/dist-packages (from jsonschema<5,>=3.2.0->web3<6,>=5.29->ethereum-etl) (0.19.2)\n",
            "Requirement already satisfied: importlib-resources>=1.4.0 in /usr/local/lib/python3.7/dist-packages (from jsonschema<5,>=3.2.0->web3<6,>=5.29->ethereum-etl) (5.10.0)\n",
            "Requirement already satisfied: zipp>=3.1.0 in /usr/local/lib/python3.7/dist-packages (from importlib-resources>=1.4.0->jsonschema<5,>=3.2.0->web3<6,>=5.29->ethereum-etl) (3.10.0)\n",
            "Collecting varint\n",
            "  Downloading varint-1.0.2.tar.gz (1.9 kB)\n",
            "Collecting netaddr\n",
            "  Downloading netaddr-0.8.0-py2.py3-none-any.whl (1.9 MB)\n",
            "\u001b[K     |████████████████████████████████| 1.9 MB 42.3 MB/s \n",
            "\u001b[?25hRequirement already satisfied: chardet<4,>=3.0.2 in /usr/local/lib/python3.7/dist-packages (from requests->ethereum-etl) (3.0.4)\n",
            "Requirement already satisfied: idna<3,>=2.5 in /usr/local/lib/python3.7/dist-packages (from requests->ethereum-etl) (2.10)\n",
            "Requirement already satisfied: urllib3!=1.25.0,!=1.25.1,<1.26,>=1.21.1 in /usr/local/lib/python3.7/dist-packages (from requests->ethereum-etl) (1.24.3)\n",
            "Requirement already satisfied: certifi>=2017.4.17 in /usr/local/lib/python3.7/dist-packages (from requests->ethereum-etl) (2022.9.24)\n",
            "Requirement already satisfied: numpy>=1.17.3 in /usr/local/lib/python3.7/dist-packages (from pandas) (1.21.6)\n",
            "Requirement already satisfied: pytz>=2017.3 in /usr/local/lib/python3.7/dist-packages (from pandas) (2022.6)\n",
            "Building wheels for collected packages: ethereum-etl, parsimonious, varint\n",
            "  Building wheel for ethereum-etl (setup.py) ... \u001b[?25l\u001b[?25hdone\n",
            "  Created wheel for ethereum-etl: filename=ethereum_etl-2.1.1-py3-none-any.whl size=438799 sha256=a37ea732957554fe43bb015d3da2d2c175d342142eb7360ec48a3cfd92d38250\n",
            "  Stored in directory: /root/.cache/pip/wheels/58/a3/4c/99f11663d9e8a07aa7fa3581096509202c016391e03a9009dd\n",
            "  Building wheel for parsimonious (setup.py) ... \u001b[?25l\u001b[?25hdone\n",
            "  Created wheel for parsimonious: filename=parsimonious-0.8.1-py3-none-any.whl size=42724 sha256=b5614aba14efe00802ed6f2c285fb9dcba10f65beab4a0b751bf2f0f15f6486b\n",
            "  Stored in directory: /root/.cache/pip/wheels/88/5d/ba/f27d8af07306b65ee44f9d3f9cadea1db749a421a6db8a99bf\n",
            "  Building wheel for varint (setup.py) ... \u001b[?25l\u001b[?25hdone\n",
            "  Created wheel for varint: filename=varint-1.0.2-py3-none-any.whl size=1981 sha256=1547a474d74adc8d7d348ac2a8ab167790ea22cc66450667f81c75f838b95d3e\n",
            "  Stored in directory: /root/.cache/pip/wheels/69/21/07/09f1c6a7d9b59377aa6d98da6efdd670f7ca40aabd93d02704\n",
            "Successfully built ethereum-etl parsimonious varint\n",
            "Installing collected packages: eth-typing, eth-hash, cytoolz, eth-utils, varint, rlp, pycryptodome, parsimonious, netaddr, hexbytes, eth-keys, base58, multiaddr, eth-rlp, eth-keyfile, eth-abi, bitarray, websockets, protobuf, lru-dict, ipfshttpclient, evmdasm, eth-account, colorama, web3, ethereum-dasm, click, ethereum-etl\n",
            "  Attempting uninstall: protobuf\n",
            "    Found existing installation: protobuf 3.17.3\n",
            "    Uninstalling protobuf-3.17.3:\n",
            "      Successfully uninstalled protobuf-3.17.3\n",
            "  Attempting uninstall: click\n",
            "    Found existing installation: click 7.1.2\n",
            "    Uninstalling click-7.1.2:\n",
            "      Successfully uninstalled click-7.1.2\n",
            "\u001b[31mERROR: pip's dependency resolver does not currently take into account all the packages that are installed. This behaviour is the source of the following dependency conflicts.\n",
            "flask 1.1.4 requires click<8.0,>=5.1, but you have click 8.0.4 which is incompatible.\u001b[0m\n",
            "Successfully installed base58-2.1.1 bitarray-2.6.0 click-8.0.4 colorama-0.4.6 cytoolz-0.12.0 eth-abi-2.1.1 eth-account-0.5.9 eth-hash-0.3.3 eth-keyfile-0.5.1 eth-keys-0.3.4 eth-rlp-0.2.1 eth-typing-2.3.0 eth-utils-1.10.0 ethereum-dasm-0.1.4 ethereum-etl-2.1.1 evmdasm-0.1.10 hexbytes-0.3.0 ipfshttpclient-0.8.0a2 lru-dict-1.1.8 multiaddr-0.0.9 netaddr-0.8.0 parsimonious-0.8.1 protobuf-3.19.5 pycryptodome-3.15.0 rlp-2.0.1 varint-1.0.2 web3-5.31.1 websockets-9.1\n"
          ]
        }
      ],
      "source": [
        "# install ethereum-etl and pandas\n",
        "!python -m pip install ethereum-etl pandas"
      ]
    },
    {
      "cell_type": "markdown",
      "source": [
        "# Part II: Mount Google Drive for Result Exports"
      ],
      "metadata": {
        "id": "UvNPm9lqkdF3"
      }
    },
    {
      "cell_type": "code",
      "source": [
        "# mount google drive\n",
        "from google.colab import drive\n",
        "\n",
        "drive.mount('/content/drive')"
      ],
      "metadata": {
        "colab": {
          "base_uri": "https://localhost:8080/"
        },
        "id": "wES4OHqFmZjM",
        "outputId": "79ea76ad-8ae0-4e6a-9518-9ecb9c6ed286"
      },
      "execution_count": null,
      "outputs": [
        {
          "output_type": "stream",
          "name": "stdout",
          "text": [
            "Mounted at /content/drive\n"
          ]
        }
      ]
    },
    {
      "cell_type": "code",
      "source": [
        "# print the current directory\n",
        "!pwd"
      ],
      "metadata": {
        "colab": {
          "base_uri": "https://localhost:8080/"
        },
        "id": "bEplGVTImhrq",
        "outputId": "edb0dfa0-1b3b-4c17-a699-e0f81b483fd7"
      },
      "execution_count": null,
      "outputs": [
        {
          "output_type": "stream",
          "name": "stdout",
          "text": [
            "/content\n"
          ]
        }
      ]
    },
    {
      "cell_type": "code",
      "source": [
        "#@title path\n",
        "#create a project folder and identify the path\n",
        "path = \"/content/drive/MyDrive/EthereumETL\" #@param {type:\"string\"}\n"
      ],
      "metadata": {
        "id": "8-AIBrM6LV3M"
      },
      "execution_count": null,
      "outputs": []
    },
    {
      "cell_type": "code",
      "source": [
        "#go to your project folder \n",
        "%cd /content/drive/MyDrive/EthereumETL"
      ],
      "metadata": {
        "colab": {
          "base_uri": "https://localhost:8080/"
        },
        "id": "5v3R2TJrK_7j",
        "outputId": "e28ffde7-8b47-4686-c64f-e757e6c9cd38"
      },
      "execution_count": null,
      "outputs": [
        {
          "output_type": "stream",
          "name": "stdout",
          "text": [
            "/content/drive/MyDrive/EthereumETL\n"
          ]
        }
      ]
    },
    {
      "cell_type": "code",
      "source": [
        "# print the current directory again to make sure that you are in the project folder\n",
        "!pwd"
      ],
      "metadata": {
        "colab": {
          "base_uri": "https://localhost:8080/"
        },
        "id": "DU9bZePInDS_",
        "outputId": "8bae3b4c-7fee-4a4a-a09d-48c042566daf"
      },
      "execution_count": null,
      "outputs": [
        {
          "output_type": "stream",
          "name": "stdout",
          "text": [
            "/content/drive/MyDrive/EthereumETL\n"
          ]
        }
      ]
    },
    {
      "cell_type": "markdown",
      "source": [
        "# Part III: Query Data and Export CSV"
      ],
      "metadata": {
        "id": "qCQquwO1ki7a"
      }
    },
    {
      "cell_type": "markdown",
      "source": [
        "## 0.Register Accounts on Remote Nodes Service and Get the URLs of the Nodes"
      ],
      "metadata": {
        "id": "LamdAbrKnTkp"
      }
    },
    {
      "cell_type": "markdown",
      "source": [
        "### Remote node option 1: Infura"
      ],
      "metadata": {
        "id": "nBgQNm-Ynh5_"
      }
    },
    {
      "cell_type": "markdown",
      "source": [
        "!!! Important Notes: Please replace https://mainnet.infura.io/v3/API_kEY with your own endpoints for all the codes below"
      ],
      "metadata": {
        "id": "qWXbxoc8fsEf"
      }
    },
    {
      "cell_type": "code",
      "source": [
        "#@title Import using the Infura node\n",
        "infura_end_points_URL = \"https://mainnet.infura.io/v3/API_kEY\" #@param {type:\"string\"}\n"
      ],
      "metadata": {
        "id": "wC-wZEJfJl54"
      },
      "execution_count": null,
      "outputs": []
    },
    {
      "cell_type": "markdown",
      "source": [],
      "metadata": {
        "id": "eWPPvIc4fgNg"
      }
    },
    {
      "cell_type": "code",
      "source": [],
      "metadata": {
        "id": "HMZy2ge7LpIq"
      },
      "execution_count": null,
      "outputs": []
    },
    {
      "cell_type": "markdown",
      "source": [
        "### Remote node option 2: Alchemy "
      ],
      "metadata": {
        "id": "_ZiGo7tUnqJC"
      }
    },
    {
      "cell_type": "markdown",
      "source": [
        "## Remote node option 3: Quick nodes"
      ],
      "metadata": {
        "id": "D7uUbkw4nvVD"
      }
    },
    {
      "cell_type": "markdown",
      "source": [
        "\n",
        "\n",
        "Data Range: We are going to query the block and transaction data for the ethereum blockchain before and after the merge (block number: 15537393 on September 15)\n",
        "\n",
        "Reference; \n",
        "https://www.investopedia.com/ethereum-completes-the-merge-6666337\n",
        "\n"
      ],
      "metadata": {
        "id": "mrjySstRMEXY"
      }
    },
    {
      "cell_type": "code",
      "source": [
        "#@title the merge\n",
        "merge = 15537393 #@param {type:\"number\"}"
      ],
      "metadata": {
        "id": "DTR4hXEgMjRP"
      },
      "execution_count": null,
      "outputs": []
    },
    {
      "cell_type": "code",
      "source": [
        "#@title data radius\n",
        "radius = 100 #@param {type:\"number\"}\n"
      ],
      "metadata": {
        "id": "xGCy87YhMt_t"
      },
      "execution_count": null,
      "outputs": []
    },
    {
      "cell_type": "code",
      "source": [
        "### find the start and the end\n",
        "start = merge-radius\n",
        "end = merge+radius\n",
        "print(start, end)"
      ],
      "metadata": {
        "colab": {
          "base_uri": "https://localhost:8080/"
        },
        "id": "zLqCHkmtNAKO",
        "outputId": "3527cfe8-5925-4d88-aa3c-ccb16fe720fd"
      },
      "execution_count": null,
      "outputs": [
        {
          "output_type": "stream",
          "name": "stdout",
          "text": [
            "15537293 15537493\n"
          ]
        }
      ]
    },
    {
      "cell_type": "markdown",
      "source": [
        "## 1. Query Block Data"
      ],
      "metadata": {
        "id": "hcTI-TQNkqYH"
      }
    },
    {
      "cell_type": "code",
      "source": [
        "!ethereumetl export_blocks_and_transactions --start-block 15537293 --end-block 15537493 --blocks-output blocks.csv --provider-uri https://mainnet.infura.io/v3/API_kEY"
      ],
      "metadata": {
        "colab": {
          "base_uri": "https://localhost:8080/"
        },
        "id": "8qbuem1rNYe5",
        "outputId": "f0b17f96-1892-4a33-a5df-6aa7c27da374"
      },
      "execution_count": null,
      "outputs": [
        {
          "output_type": "stream",
          "name": "stdout",
          "text": [
            "2022-11-09 02:31:17,712 - ProgressLogger [INFO] - Started work. Items to process: 201.\n",
            "2022-11-09 02:31:18,606 - ProgressLogger [INFO] - 101 items processed. Progress is 50%.\n",
            "2022-11-09 02:31:18,758 - ProgressLogger [INFO] - 201 items processed. Progress is 100%.\n",
            "2022-11-09 02:31:18,759 - ProgressLogger [INFO] - Finished work. Total items processed: 201. Took 0:00:01.046225.\n",
            "2022-11-09 02:31:18,760 - CompositeItemExporter [INFO] - block items exported: 201\n",
            "2022-11-09 02:31:18,760 - CompositeItemExporter [INFO] - transaction items exported: 0\n",
            "\u001b[0m"
          ]
        }
      ]
    },
    {
      "cell_type": "code",
      "source": [
        "# import libraries to print data frame\n",
        "import pandas as pd"
      ],
      "metadata": {
        "id": "03hqO11tN8AN"
      },
      "execution_count": null,
      "outputs": []
    },
    {
      "cell_type": "code",
      "source": [
        "# set to print the maximum numbers of rows\n",
        "pd.set_option('display.max_rows', None)"
      ],
      "metadata": {
        "id": "C6CQUMZJOTJa"
      },
      "execution_count": null,
      "outputs": []
    },
    {
      "cell_type": "code",
      "source": [
        "df_blocks = pd.read_csv('./blocks.csv')\n",
        "display(df_blocks.head())"
      ],
      "metadata": {
        "colab": {
          "base_uri": "https://localhost:8080/",
          "height": 270
        },
        "id": "vMyGxx-6N_Df",
        "outputId": "cc65c6a8-0f29-4964-ad7b-4df285a511d4"
      },
      "execution_count": null,
      "outputs": [
        {
          "output_type": "display_data",
          "data": {
            "text/plain": [
              "     number                                               hash  \\\n",
              "0  15537493  0x0ac7d9aa5886b66b8bdc217a2dd06d3393d6712c7486...   \n",
              "1  15537393  0x55b11b918355b1ef9c5db810302ebad0bf2544255b53...   \n",
              "2  15537394  0x56a9bb0302da44b8c0b3df540781424684c3af04d0b7...   \n",
              "3  15537395  0xe37e1a183a3d1c7234d090bfb7196081635919c26f2e...   \n",
              "4  15537396  0x98c735877f2f30bad54fc46ba8bcd93a54da32a60b29...   \n",
              "\n",
              "                                         parent_hash               nonce  \\\n",
              "0  0x3dabb8d96bfc2dfeef5fad9be48afdb90a0d9011865d...  0x0000000000000000   \n",
              "1  0x2b3ea3cd4befcab070812443affb08bf17a91ce382c7...  0x62a3ee77461d4fc9   \n",
              "2  0x55b11b918355b1ef9c5db810302ebad0bf2544255b53...  0x0000000000000000   \n",
              "3  0x56a9bb0302da44b8c0b3df540781424684c3af04d0b7...  0x0000000000000000   \n",
              "4  0xe37e1a183a3d1c7234d090bfb7196081635919c26f2e...  0x0000000000000000   \n",
              "\n",
              "                                         sha3_uncles  \\\n",
              "0  0x1dcc4de8dec75d7aab85b567b6ccd41ad312451b948a...   \n",
              "1  0x1dcc4de8dec75d7aab85b567b6ccd41ad312451b948a...   \n",
              "2  0x1dcc4de8dec75d7aab85b567b6ccd41ad312451b948a...   \n",
              "3  0x1dcc4de8dec75d7aab85b567b6ccd41ad312451b948a...   \n",
              "4  0x1dcc4de8dec75d7aab85b567b6ccd41ad312451b948a...   \n",
              "\n",
              "                                          logs_bloom  \\\n",
              "0  0xbeeb99627dba38deb8e2787882147539d2f97d83576a...   \n",
              "1  0x00000400000000000000000000000000000000000000...   \n",
              "2  0xffffffffffffffffffffffffffffffffffffffffffff...   \n",
              "3  0xffffffffffffffffffffffffffffffffffffffffffff...   \n",
              "4  0x95248824802c120a80100904f00200b8aa1806824c80...   \n",
              "\n",
              "                                   transactions_root  \\\n",
              "0  0xd022396d6bae98c72adec4fc96aa60bed379186af1fe...   \n",
              "1  0xdd5eec02b019ff76e359b09bfa19395a2a0e97bc01e7...   \n",
              "2  0x1ea1746468686159ce730c1cc49a886721244e5d1fa9...   \n",
              "3  0x5c56184fbce74e9c98d2a51aa2110963396047d84e8c...   \n",
              "4  0xf103ec8f4895f63748a3f8d182af659736d1fc593d71...   \n",
              "\n",
              "                                          state_root  \\\n",
              "0  0x59b2d3cd234a375192dba0b038096f58902d042315e6...   \n",
              "1  0x4919dafa6ac8becfbbd0c2808f6c9511a057c21e4283...   \n",
              "2  0x40c07091e16263270f3579385090fea02dd5f061ba67...   \n",
              "3  0x2ca38a39c5517f658d107c19550334a9820a7393d148...   \n",
              "4  0xe6b8248ff047d9f34ecd82bcc1af2f45e08cd9157168...   \n",
              "\n",
              "                                       receipts_root  \\\n",
              "0  0xd0488afff24558eea6ae67ec9f09edfc84a722d1fb6d...   \n",
              "1  0xbaa842cfd552321a9c2450576126311e071680a12580...   \n",
              "2  0x928073fb98ce316265ea35d95ab7e2e1206cecd85242...   \n",
              "3  0x1707e457973ce280debe93f5d478663d97ad192beea1...   \n",
              "4  0xf39845a5eabaa2848ff4c6bec8b1ede03ac5e6aa475e...   \n",
              "\n",
              "                                        miner         difficulty  \\\n",
              "0  0x54cd0e6771b6487c721ec620c4de1240d3b07696                  0   \n",
              "1  0x829bd824b016326a401d083b33d092293333a830  11055787484078698   \n",
              "2  0xeee27662c2b8eba3cd936a23f039f3189633e4c8                  0   \n",
              "3  0x0b3b161b8abeb6b04cb95c3e6047f80c120a0292                  0   \n",
              "4  0x388c818ca8b9251b393131c08a736a67ccb19297                  0   \n",
              "\n",
              "          total_difficulty    size                              extra_data  \\\n",
              "0  58750003716598352816469  212002                                      0x   \n",
              "1  58750003716598352816469    1636  0xe4b883e5bda9e7a59ee4bb99e9b1bc460021   \n",
              "2  58750003716598352816469   18559                                      0x   \n",
              "3  58750003716598352816469   36978                                      0x   \n",
              "4  58750003716598352816469   40259                                      0x   \n",
              "\n",
              "   gas_limit  gas_used   timestamp  transaction_count  base_fee_per_gas  \n",
              "0   30000000  29427315  1663225391                273       35073582545  \n",
              "1   30000000  29991429  1663224162                  1       43391016710  \n",
              "2   30000000  29983006  1663224179                 80       48811794595  \n",
              "3   30000000  29982083  1663224191                 29       54906356355  \n",
              "4   30000000  29980461  1663224203                170       61761452922  "
            ],
            "text/html": [
              "\n",
              "  <div id=\"df-83353187-3d0f-4142-a0dd-08d842787059\">\n",
              "    <div class=\"colab-df-container\">\n",
              "      <div>\n",
              "<style scoped>\n",
              "    .dataframe tbody tr th:only-of-type {\n",
              "        vertical-align: middle;\n",
              "    }\n",
              "\n",
              "    .dataframe tbody tr th {\n",
              "        vertical-align: top;\n",
              "    }\n",
              "\n",
              "    .dataframe thead th {\n",
              "        text-align: right;\n",
              "    }\n",
              "</style>\n",
              "<table border=\"1\" class=\"dataframe\">\n",
              "  <thead>\n",
              "    <tr style=\"text-align: right;\">\n",
              "      <th></th>\n",
              "      <th>number</th>\n",
              "      <th>hash</th>\n",
              "      <th>parent_hash</th>\n",
              "      <th>nonce</th>\n",
              "      <th>sha3_uncles</th>\n",
              "      <th>logs_bloom</th>\n",
              "      <th>transactions_root</th>\n",
              "      <th>state_root</th>\n",
              "      <th>receipts_root</th>\n",
              "      <th>miner</th>\n",
              "      <th>difficulty</th>\n",
              "      <th>total_difficulty</th>\n",
              "      <th>size</th>\n",
              "      <th>extra_data</th>\n",
              "      <th>gas_limit</th>\n",
              "      <th>gas_used</th>\n",
              "      <th>timestamp</th>\n",
              "      <th>transaction_count</th>\n",
              "      <th>base_fee_per_gas</th>\n",
              "    </tr>\n",
              "  </thead>\n",
              "  <tbody>\n",
              "    <tr>\n",
              "      <th>0</th>\n",
              "      <td>15537493</td>\n",
              "      <td>0x0ac7d9aa5886b66b8bdc217a2dd06d3393d6712c7486...</td>\n",
              "      <td>0x3dabb8d96bfc2dfeef5fad9be48afdb90a0d9011865d...</td>\n",
              "      <td>0x0000000000000000</td>\n",
              "      <td>0x1dcc4de8dec75d7aab85b567b6ccd41ad312451b948a...</td>\n",
              "      <td>0xbeeb99627dba38deb8e2787882147539d2f97d83576a...</td>\n",
              "      <td>0xd022396d6bae98c72adec4fc96aa60bed379186af1fe...</td>\n",
              "      <td>0x59b2d3cd234a375192dba0b038096f58902d042315e6...</td>\n",
              "      <td>0xd0488afff24558eea6ae67ec9f09edfc84a722d1fb6d...</td>\n",
              "      <td>0x54cd0e6771b6487c721ec620c4de1240d3b07696</td>\n",
              "      <td>0</td>\n",
              "      <td>58750003716598352816469</td>\n",
              "      <td>212002</td>\n",
              "      <td>0x</td>\n",
              "      <td>30000000</td>\n",
              "      <td>29427315</td>\n",
              "      <td>1663225391</td>\n",
              "      <td>273</td>\n",
              "      <td>35073582545</td>\n",
              "    </tr>\n",
              "    <tr>\n",
              "      <th>1</th>\n",
              "      <td>15537393</td>\n",
              "      <td>0x55b11b918355b1ef9c5db810302ebad0bf2544255b53...</td>\n",
              "      <td>0x2b3ea3cd4befcab070812443affb08bf17a91ce382c7...</td>\n",
              "      <td>0x62a3ee77461d4fc9</td>\n",
              "      <td>0x1dcc4de8dec75d7aab85b567b6ccd41ad312451b948a...</td>\n",
              "      <td>0x00000400000000000000000000000000000000000000...</td>\n",
              "      <td>0xdd5eec02b019ff76e359b09bfa19395a2a0e97bc01e7...</td>\n",
              "      <td>0x4919dafa6ac8becfbbd0c2808f6c9511a057c21e4283...</td>\n",
              "      <td>0xbaa842cfd552321a9c2450576126311e071680a12580...</td>\n",
              "      <td>0x829bd824b016326a401d083b33d092293333a830</td>\n",
              "      <td>11055787484078698</td>\n",
              "      <td>58750003716598352816469</td>\n",
              "      <td>1636</td>\n",
              "      <td>0xe4b883e5bda9e7a59ee4bb99e9b1bc460021</td>\n",
              "      <td>30000000</td>\n",
              "      <td>29991429</td>\n",
              "      <td>1663224162</td>\n",
              "      <td>1</td>\n",
              "      <td>43391016710</td>\n",
              "    </tr>\n",
              "    <tr>\n",
              "      <th>2</th>\n",
              "      <td>15537394</td>\n",
              "      <td>0x56a9bb0302da44b8c0b3df540781424684c3af04d0b7...</td>\n",
              "      <td>0x55b11b918355b1ef9c5db810302ebad0bf2544255b53...</td>\n",
              "      <td>0x0000000000000000</td>\n",
              "      <td>0x1dcc4de8dec75d7aab85b567b6ccd41ad312451b948a...</td>\n",
              "      <td>0xffffffffffffffffffffffffffffffffffffffffffff...</td>\n",
              "      <td>0x1ea1746468686159ce730c1cc49a886721244e5d1fa9...</td>\n",
              "      <td>0x40c07091e16263270f3579385090fea02dd5f061ba67...</td>\n",
              "      <td>0x928073fb98ce316265ea35d95ab7e2e1206cecd85242...</td>\n",
              "      <td>0xeee27662c2b8eba3cd936a23f039f3189633e4c8</td>\n",
              "      <td>0</td>\n",
              "      <td>58750003716598352816469</td>\n",
              "      <td>18559</td>\n",
              "      <td>0x</td>\n",
              "      <td>30000000</td>\n",
              "      <td>29983006</td>\n",
              "      <td>1663224179</td>\n",
              "      <td>80</td>\n",
              "      <td>48811794595</td>\n",
              "    </tr>\n",
              "    <tr>\n",
              "      <th>3</th>\n",
              "      <td>15537395</td>\n",
              "      <td>0xe37e1a183a3d1c7234d090bfb7196081635919c26f2e...</td>\n",
              "      <td>0x56a9bb0302da44b8c0b3df540781424684c3af04d0b7...</td>\n",
              "      <td>0x0000000000000000</td>\n",
              "      <td>0x1dcc4de8dec75d7aab85b567b6ccd41ad312451b948a...</td>\n",
              "      <td>0xffffffffffffffffffffffffffffffffffffffffffff...</td>\n",
              "      <td>0x5c56184fbce74e9c98d2a51aa2110963396047d84e8c...</td>\n",
              "      <td>0x2ca38a39c5517f658d107c19550334a9820a7393d148...</td>\n",
              "      <td>0x1707e457973ce280debe93f5d478663d97ad192beea1...</td>\n",
              "      <td>0x0b3b161b8abeb6b04cb95c3e6047f80c120a0292</td>\n",
              "      <td>0</td>\n",
              "      <td>58750003716598352816469</td>\n",
              "      <td>36978</td>\n",
              "      <td>0x</td>\n",
              "      <td>30000000</td>\n",
              "      <td>29982083</td>\n",
              "      <td>1663224191</td>\n",
              "      <td>29</td>\n",
              "      <td>54906356355</td>\n",
              "    </tr>\n",
              "    <tr>\n",
              "      <th>4</th>\n",
              "      <td>15537396</td>\n",
              "      <td>0x98c735877f2f30bad54fc46ba8bcd93a54da32a60b29...</td>\n",
              "      <td>0xe37e1a183a3d1c7234d090bfb7196081635919c26f2e...</td>\n",
              "      <td>0x0000000000000000</td>\n",
              "      <td>0x1dcc4de8dec75d7aab85b567b6ccd41ad312451b948a...</td>\n",
              "      <td>0x95248824802c120a80100904f00200b8aa1806824c80...</td>\n",
              "      <td>0xf103ec8f4895f63748a3f8d182af659736d1fc593d71...</td>\n",
              "      <td>0xe6b8248ff047d9f34ecd82bcc1af2f45e08cd9157168...</td>\n",
              "      <td>0xf39845a5eabaa2848ff4c6bec8b1ede03ac5e6aa475e...</td>\n",
              "      <td>0x388c818ca8b9251b393131c08a736a67ccb19297</td>\n",
              "      <td>0</td>\n",
              "      <td>58750003716598352816469</td>\n",
              "      <td>40259</td>\n",
              "      <td>0x</td>\n",
              "      <td>30000000</td>\n",
              "      <td>29980461</td>\n",
              "      <td>1663224203</td>\n",
              "      <td>170</td>\n",
              "      <td>61761452922</td>\n",
              "    </tr>\n",
              "  </tbody>\n",
              "</table>\n",
              "</div>\n",
              "      <button class=\"colab-df-convert\" onclick=\"convertToInteractive('df-83353187-3d0f-4142-a0dd-08d842787059')\"\n",
              "              title=\"Convert this dataframe to an interactive table.\"\n",
              "              style=\"display:none;\">\n",
              "        \n",
              "  <svg xmlns=\"http://www.w3.org/2000/svg\" height=\"24px\"viewBox=\"0 0 24 24\"\n",
              "       width=\"24px\">\n",
              "    <path d=\"M0 0h24v24H0V0z\" fill=\"none\"/>\n",
              "    <path d=\"M18.56 5.44l.94 2.06.94-2.06 2.06-.94-2.06-.94-.94-2.06-.94 2.06-2.06.94zm-11 1L8.5 8.5l.94-2.06 2.06-.94-2.06-.94L8.5 2.5l-.94 2.06-2.06.94zm10 10l.94 2.06.94-2.06 2.06-.94-2.06-.94-.94-2.06-.94 2.06-2.06.94z\"/><path d=\"M17.41 7.96l-1.37-1.37c-.4-.4-.92-.59-1.43-.59-.52 0-1.04.2-1.43.59L10.3 9.45l-7.72 7.72c-.78.78-.78 2.05 0 2.83L4 21.41c.39.39.9.59 1.41.59.51 0 1.02-.2 1.41-.59l7.78-7.78 2.81-2.81c.8-.78.8-2.07 0-2.86zM5.41 20L4 18.59l7.72-7.72 1.47 1.35L5.41 20z\"/>\n",
              "  </svg>\n",
              "      </button>\n",
              "      \n",
              "  <style>\n",
              "    .colab-df-container {\n",
              "      display:flex;\n",
              "      flex-wrap:wrap;\n",
              "      gap: 12px;\n",
              "    }\n",
              "\n",
              "    .colab-df-convert {\n",
              "      background-color: #E8F0FE;\n",
              "      border: none;\n",
              "      border-radius: 50%;\n",
              "      cursor: pointer;\n",
              "      display: none;\n",
              "      fill: #1967D2;\n",
              "      height: 32px;\n",
              "      padding: 0 0 0 0;\n",
              "      width: 32px;\n",
              "    }\n",
              "\n",
              "    .colab-df-convert:hover {\n",
              "      background-color: #E2EBFA;\n",
              "      box-shadow: 0px 1px 2px rgba(60, 64, 67, 0.3), 0px 1px 3px 1px rgba(60, 64, 67, 0.15);\n",
              "      fill: #174EA6;\n",
              "    }\n",
              "\n",
              "    [theme=dark] .colab-df-convert {\n",
              "      background-color: #3B4455;\n",
              "      fill: #D2E3FC;\n",
              "    }\n",
              "\n",
              "    [theme=dark] .colab-df-convert:hover {\n",
              "      background-color: #434B5C;\n",
              "      box-shadow: 0px 1px 3px 1px rgba(0, 0, 0, 0.15);\n",
              "      filter: drop-shadow(0px 1px 2px rgba(0, 0, 0, 0.3));\n",
              "      fill: #FFFFFF;\n",
              "    }\n",
              "  </style>\n",
              "\n",
              "      <script>\n",
              "        const buttonEl =\n",
              "          document.querySelector('#df-83353187-3d0f-4142-a0dd-08d842787059 button.colab-df-convert');\n",
              "        buttonEl.style.display =\n",
              "          google.colab.kernel.accessAllowed ? 'block' : 'none';\n",
              "\n",
              "        async function convertToInteractive(key) {\n",
              "          const element = document.querySelector('#df-83353187-3d0f-4142-a0dd-08d842787059');\n",
              "          const dataTable =\n",
              "            await google.colab.kernel.invokeFunction('convertToInteractive',\n",
              "                                                     [key], {});\n",
              "          if (!dataTable) return;\n",
              "\n",
              "          const docLinkHtml = 'Like what you see? Visit the ' +\n",
              "            '<a target=\"_blank\" href=https://colab.research.google.com/notebooks/data_table.ipynb>data table notebook</a>'\n",
              "            + ' to learn more about interactive tables.';\n",
              "          element.innerHTML = '';\n",
              "          dataTable['output_type'] = 'display_data';\n",
              "          await google.colab.output.renderOutput(dataTable, element);\n",
              "          const docLink = document.createElement('div');\n",
              "          docLink.innerHTML = docLinkHtml;\n",
              "          element.appendChild(docLink);\n",
              "        }\n",
              "      </script>\n",
              "    </div>\n",
              "  </div>\n",
              "  "
            ]
          },
          "metadata": {}
        }
      ]
    },
    {
      "cell_type": "markdown",
      "source": [
        "## 2. Query Transaction Data"
      ],
      "metadata": {
        "id": "YDPgaP32k1Bc"
      }
    },
    {
      "cell_type": "code",
      "source": [
        "!ethereumetl export_blocks_and_transactions --start-block 15537293 --end-block 15537493 --transactions-output transactions.csv --provider-uri https://mainnet.infura.io/v3/API_kEY"
      ],
      "metadata": {
        "colab": {
          "base_uri": "https://localhost:8080/"
        },
        "id": "HDjw0BKkO1cJ",
        "outputId": "6dbbf1ac-c891-43e3-8d5a-f9dcf3f358f6"
      },
      "execution_count": null,
      "outputs": [
        {
          "output_type": "stream",
          "name": "stdout",
          "text": [
            "2022-11-09 02:35:07,283 - ProgressLogger [INFO] - Started work. Items to process: 201.\n",
            "2022-11-09 02:35:13,531 - ProgressLogger [INFO] - 101 items processed. Progress is 50%.\n",
            "2022-11-09 02:35:14,846 - ProgressLogger [INFO] - 201 items processed. Progress is 100%.\n",
            "2022-11-09 02:35:14,847 - ProgressLogger [INFO] - Finished work. Total items processed: 201. Took 0:00:07.563149.\n",
            "2022-11-09 02:35:14,847 - CompositeItemExporter [INFO] - block items exported: 0\n",
            "2022-11-09 02:35:14,849 - CompositeItemExporter [INFO] - transaction items exported: 26358\n",
            "\u001b[0m"
          ]
        }
      ]
    },
    {
      "cell_type": "code",
      "source": [
        "df_transactions = pd.read_csv('./transactions.csv')\n",
        "display(df_transactions.head())"
      ],
      "metadata": {
        "colab": {
          "base_uri": "https://localhost:8080/",
          "height": 270
        },
        "id": "F0JKRNkNPeid",
        "outputId": "02fffaa5-9d74-407a-aa47-d1467abe31dd"
      },
      "execution_count": null,
      "outputs": [
        {
          "output_type": "display_data",
          "data": {
            "text/plain": [
              "                                                hash  nonce  \\\n",
              "0  0xe683eda92e8b18c95c23e8a8dc64256b1d02110401ae...     14   \n",
              "1  0x3448496be0ce2563f06f96f72fd821bd2b7ba6c86bd3...   9142   \n",
              "2  0x25a16381da87716c076f1fbb79f042c4fe0bdb3653d5...  15300   \n",
              "3  0x443ded6693eb3ba793d6fe106bf2cccaa1d23bd58470...   5488   \n",
              "4  0x711102faeba142f270b6a08d5be26059902c5d297da6...     96   \n",
              "\n",
              "                                          block_hash  block_number  \\\n",
              "0  0x0ac7d9aa5886b66b8bdc217a2dd06d3393d6712c7486...      15537493   \n",
              "1  0x0ac7d9aa5886b66b8bdc217a2dd06d3393d6712c7486...      15537493   \n",
              "2  0x0ac7d9aa5886b66b8bdc217a2dd06d3393d6712c7486...      15537493   \n",
              "3  0x0ac7d9aa5886b66b8bdc217a2dd06d3393d6712c7486...      15537493   \n",
              "4  0x0ac7d9aa5886b66b8bdc217a2dd06d3393d6712c7486...      15537493   \n",
              "\n",
              "   transaction_index                                from_address  \\\n",
              "0                  0  0x035baccc3c7daed66211f54e0077e69a2eaeefdc   \n",
              "1                  1  0x7dacfce9eacdca48cad5ba0b61560586c375890b   \n",
              "2                  2  0x09e0781a47e9fd2b6258be09bd074f42022b9760   \n",
              "3                  3  0x479bc00624e58398f4cf59d78884d12fb515790a   \n",
              "4                  4  0x6171a3bb38444ed794dac8fea431dd5a1dbfb523   \n",
              "\n",
              "                                   to_address                value     gas  \\\n",
              "0  0x0585b2d1df27523712561163f73210096202ad52  2992536798928828425   21000   \n",
              "1  0x7dacfce9eacdca48cad5ba0b61560586c375890b                    0   21000   \n",
              "2  0x09e0781a47e9fd2b6258be09bd074f42022b9760                    0   21014   \n",
              "3  0x57c1e0c2adf6eecdb135bcf9ec5f23b319be2c94                    0  226340   \n",
              "4  0xc098b2a3aa256d2140208c3de6543aaef5cd3a94    98770135000000000   21000   \n",
              "\n",
              "     gas_price                                              input  \\\n",
              "0  96667059748                                                 0x   \n",
              "1  64528088905                                                 0x   \n",
              "2  64501336404                                                 0x   \n",
              "3  59273594645  0x000200ed1554020788e6a0c2ddd26feeb64f039a2c41...   \n",
              "4  58565000000                                                 0x   \n",
              "\n",
              "   block_timestamp  max_fee_per_gas  max_priority_fee_per_gas  \\\n",
              "0       1663225391              NaN                       NaN   \n",
              "1       1663225391     7.290597e+10              2.945451e+10   \n",
              "2       1663225391     8.456100e+10              2.942775e+10   \n",
              "3       1663225391     7.195322e+10              2.420001e+10   \n",
              "4       1663225391              NaN                       NaN   \n",
              "\n",
              "   transaction_type  \n",
              "0                 0  \n",
              "1                 2  \n",
              "2                 2  \n",
              "3                 2  \n",
              "4                 0  "
            ],
            "text/html": [
              "\n",
              "  <div id=\"df-95b41e23-27b7-4d98-a46d-15c96a9c35c5\">\n",
              "    <div class=\"colab-df-container\">\n",
              "      <div>\n",
              "<style scoped>\n",
              "    .dataframe tbody tr th:only-of-type {\n",
              "        vertical-align: middle;\n",
              "    }\n",
              "\n",
              "    .dataframe tbody tr th {\n",
              "        vertical-align: top;\n",
              "    }\n",
              "\n",
              "    .dataframe thead th {\n",
              "        text-align: right;\n",
              "    }\n",
              "</style>\n",
              "<table border=\"1\" class=\"dataframe\">\n",
              "  <thead>\n",
              "    <tr style=\"text-align: right;\">\n",
              "      <th></th>\n",
              "      <th>hash</th>\n",
              "      <th>nonce</th>\n",
              "      <th>block_hash</th>\n",
              "      <th>block_number</th>\n",
              "      <th>transaction_index</th>\n",
              "      <th>from_address</th>\n",
              "      <th>to_address</th>\n",
              "      <th>value</th>\n",
              "      <th>gas</th>\n",
              "      <th>gas_price</th>\n",
              "      <th>input</th>\n",
              "      <th>block_timestamp</th>\n",
              "      <th>max_fee_per_gas</th>\n",
              "      <th>max_priority_fee_per_gas</th>\n",
              "      <th>transaction_type</th>\n",
              "    </tr>\n",
              "  </thead>\n",
              "  <tbody>\n",
              "    <tr>\n",
              "      <th>0</th>\n",
              "      <td>0xe683eda92e8b18c95c23e8a8dc64256b1d02110401ae...</td>\n",
              "      <td>14</td>\n",
              "      <td>0x0ac7d9aa5886b66b8bdc217a2dd06d3393d6712c7486...</td>\n",
              "      <td>15537493</td>\n",
              "      <td>0</td>\n",
              "      <td>0x035baccc3c7daed66211f54e0077e69a2eaeefdc</td>\n",
              "      <td>0x0585b2d1df27523712561163f73210096202ad52</td>\n",
              "      <td>2992536798928828425</td>\n",
              "      <td>21000</td>\n",
              "      <td>96667059748</td>\n",
              "      <td>0x</td>\n",
              "      <td>1663225391</td>\n",
              "      <td>NaN</td>\n",
              "      <td>NaN</td>\n",
              "      <td>0</td>\n",
              "    </tr>\n",
              "    <tr>\n",
              "      <th>1</th>\n",
              "      <td>0x3448496be0ce2563f06f96f72fd821bd2b7ba6c86bd3...</td>\n",
              "      <td>9142</td>\n",
              "      <td>0x0ac7d9aa5886b66b8bdc217a2dd06d3393d6712c7486...</td>\n",
              "      <td>15537493</td>\n",
              "      <td>1</td>\n",
              "      <td>0x7dacfce9eacdca48cad5ba0b61560586c375890b</td>\n",
              "      <td>0x7dacfce9eacdca48cad5ba0b61560586c375890b</td>\n",
              "      <td>0</td>\n",
              "      <td>21000</td>\n",
              "      <td>64528088905</td>\n",
              "      <td>0x</td>\n",
              "      <td>1663225391</td>\n",
              "      <td>7.290597e+10</td>\n",
              "      <td>2.945451e+10</td>\n",
              "      <td>2</td>\n",
              "    </tr>\n",
              "    <tr>\n",
              "      <th>2</th>\n",
              "      <td>0x25a16381da87716c076f1fbb79f042c4fe0bdb3653d5...</td>\n",
              "      <td>15300</td>\n",
              "      <td>0x0ac7d9aa5886b66b8bdc217a2dd06d3393d6712c7486...</td>\n",
              "      <td>15537493</td>\n",
              "      <td>2</td>\n",
              "      <td>0x09e0781a47e9fd2b6258be09bd074f42022b9760</td>\n",
              "      <td>0x09e0781a47e9fd2b6258be09bd074f42022b9760</td>\n",
              "      <td>0</td>\n",
              "      <td>21014</td>\n",
              "      <td>64501336404</td>\n",
              "      <td>0x</td>\n",
              "      <td>1663225391</td>\n",
              "      <td>8.456100e+10</td>\n",
              "      <td>2.942775e+10</td>\n",
              "      <td>2</td>\n",
              "    </tr>\n",
              "    <tr>\n",
              "      <th>3</th>\n",
              "      <td>0x443ded6693eb3ba793d6fe106bf2cccaa1d23bd58470...</td>\n",
              "      <td>5488</td>\n",
              "      <td>0x0ac7d9aa5886b66b8bdc217a2dd06d3393d6712c7486...</td>\n",
              "      <td>15537493</td>\n",
              "      <td>3</td>\n",
              "      <td>0x479bc00624e58398f4cf59d78884d12fb515790a</td>\n",
              "      <td>0x57c1e0c2adf6eecdb135bcf9ec5f23b319be2c94</td>\n",
              "      <td>0</td>\n",
              "      <td>226340</td>\n",
              "      <td>59273594645</td>\n",
              "      <td>0x000200ed1554020788e6a0c2ddd26feeb64f039a2c41...</td>\n",
              "      <td>1663225391</td>\n",
              "      <td>7.195322e+10</td>\n",
              "      <td>2.420001e+10</td>\n",
              "      <td>2</td>\n",
              "    </tr>\n",
              "    <tr>\n",
              "      <th>4</th>\n",
              "      <td>0x711102faeba142f270b6a08d5be26059902c5d297da6...</td>\n",
              "      <td>96</td>\n",
              "      <td>0x0ac7d9aa5886b66b8bdc217a2dd06d3393d6712c7486...</td>\n",
              "      <td>15537493</td>\n",
              "      <td>4</td>\n",
              "      <td>0x6171a3bb38444ed794dac8fea431dd5a1dbfb523</td>\n",
              "      <td>0xc098b2a3aa256d2140208c3de6543aaef5cd3a94</td>\n",
              "      <td>98770135000000000</td>\n",
              "      <td>21000</td>\n",
              "      <td>58565000000</td>\n",
              "      <td>0x</td>\n",
              "      <td>1663225391</td>\n",
              "      <td>NaN</td>\n",
              "      <td>NaN</td>\n",
              "      <td>0</td>\n",
              "    </tr>\n",
              "  </tbody>\n",
              "</table>\n",
              "</div>\n",
              "      <button class=\"colab-df-convert\" onclick=\"convertToInteractive('df-95b41e23-27b7-4d98-a46d-15c96a9c35c5')\"\n",
              "              title=\"Convert this dataframe to an interactive table.\"\n",
              "              style=\"display:none;\">\n",
              "        \n",
              "  <svg xmlns=\"http://www.w3.org/2000/svg\" height=\"24px\"viewBox=\"0 0 24 24\"\n",
              "       width=\"24px\">\n",
              "    <path d=\"M0 0h24v24H0V0z\" fill=\"none\"/>\n",
              "    <path d=\"M18.56 5.44l.94 2.06.94-2.06 2.06-.94-2.06-.94-.94-2.06-.94 2.06-2.06.94zm-11 1L8.5 8.5l.94-2.06 2.06-.94-2.06-.94L8.5 2.5l-.94 2.06-2.06.94zm10 10l.94 2.06.94-2.06 2.06-.94-2.06-.94-.94-2.06-.94 2.06-2.06.94z\"/><path d=\"M17.41 7.96l-1.37-1.37c-.4-.4-.92-.59-1.43-.59-.52 0-1.04.2-1.43.59L10.3 9.45l-7.72 7.72c-.78.78-.78 2.05 0 2.83L4 21.41c.39.39.9.59 1.41.59.51 0 1.02-.2 1.41-.59l7.78-7.78 2.81-2.81c.8-.78.8-2.07 0-2.86zM5.41 20L4 18.59l7.72-7.72 1.47 1.35L5.41 20z\"/>\n",
              "  </svg>\n",
              "      </button>\n",
              "      \n",
              "  <style>\n",
              "    .colab-df-container {\n",
              "      display:flex;\n",
              "      flex-wrap:wrap;\n",
              "      gap: 12px;\n",
              "    }\n",
              "\n",
              "    .colab-df-convert {\n",
              "      background-color: #E8F0FE;\n",
              "      border: none;\n",
              "      border-radius: 50%;\n",
              "      cursor: pointer;\n",
              "      display: none;\n",
              "      fill: #1967D2;\n",
              "      height: 32px;\n",
              "      padding: 0 0 0 0;\n",
              "      width: 32px;\n",
              "    }\n",
              "\n",
              "    .colab-df-convert:hover {\n",
              "      background-color: #E2EBFA;\n",
              "      box-shadow: 0px 1px 2px rgba(60, 64, 67, 0.3), 0px 1px 3px 1px rgba(60, 64, 67, 0.15);\n",
              "      fill: #174EA6;\n",
              "    }\n",
              "\n",
              "    [theme=dark] .colab-df-convert {\n",
              "      background-color: #3B4455;\n",
              "      fill: #D2E3FC;\n",
              "    }\n",
              "\n",
              "    [theme=dark] .colab-df-convert:hover {\n",
              "      background-color: #434B5C;\n",
              "      box-shadow: 0px 1px 3px 1px rgba(0, 0, 0, 0.15);\n",
              "      filter: drop-shadow(0px 1px 2px rgba(0, 0, 0, 0.3));\n",
              "      fill: #FFFFFF;\n",
              "    }\n",
              "  </style>\n",
              "\n",
              "      <script>\n",
              "        const buttonEl =\n",
              "          document.querySelector('#df-95b41e23-27b7-4d98-a46d-15c96a9c35c5 button.colab-df-convert');\n",
              "        buttonEl.style.display =\n",
              "          google.colab.kernel.accessAllowed ? 'block' : 'none';\n",
              "\n",
              "        async function convertToInteractive(key) {\n",
              "          const element = document.querySelector('#df-95b41e23-27b7-4d98-a46d-15c96a9c35c5');\n",
              "          const dataTable =\n",
              "            await google.colab.kernel.invokeFunction('convertToInteractive',\n",
              "                                                     [key], {});\n",
              "          if (!dataTable) return;\n",
              "\n",
              "          const docLinkHtml = 'Like what you see? Visit the ' +\n",
              "            '<a target=\"_blank\" href=https://colab.research.google.com/notebooks/data_table.ipynb>data table notebook</a>'\n",
              "            + ' to learn more about interactive tables.';\n",
              "          element.innerHTML = '';\n",
              "          dataTable['output_type'] = 'display_data';\n",
              "          await google.colab.output.renderOutput(dataTable, element);\n",
              "          const docLink = document.createElement('div');\n",
              "          docLink.innerHTML = docLinkHtml;\n",
              "          element.appendChild(docLink);\n",
              "        }\n",
              "      </script>\n",
              "    </div>\n",
              "  </div>\n",
              "  "
            ]
          },
          "metadata": {}
        }
      ]
    },
    {
      "cell_type": "markdown",
      "source": [
        "## 3. Query Token Data"
      ],
      "metadata": {
        "id": "XRKjN33hlmCC"
      }
    },
    {
      "cell_type": "markdown",
      "source": [
        "### 3.1 Query All Token Transfers"
      ],
      "metadata": {
        "id": "oAaKjkqRRy0f"
      }
    },
    {
      "cell_type": "code",
      "source": [
        "!ethereumetl export_token_transfers --start-block 15537293 --end-block 15537493 --provhttps://mainnet.infura.io/v3/API_kEY --output token_transfers.csv"
      ],
      "metadata": {
        "colab": {
          "base_uri": "https://localhost:8080/"
        },
        "id": "TPD4z45-PqxL",
        "outputId": "cc461e2b-4983-496a-febe-c576807f28e6"
      },
      "execution_count": null,
      "outputs": [
        {
          "output_type": "stream",
          "name": "stdout",
          "text": [
            "2022-11-09 02:43:02,083 - ProgressLogger [INFO] - Started work. Items to process: 201.\n",
            "Traceback (most recent call last):\n",
            "\u001b[0m  File \"/usr/local/bin/ethereumetl\", line 8, in <module>\n",
            "\u001b[0m    \u001b[0msys.exit(cli())\u001b[0m\n",
            "\u001b[0m  File \"/usr/local/lib/python3.7/dist-packages/click/core.py\", line 1128, in __call__\n",
            "\u001b[0m    \u001b[0mreturn self.main(*args, **kwargs)\u001b[0m\n",
            "\u001b[0m  File \"/usr/local/lib/python3.7/dist-packages/click/core.py\", line 1053, in main\n",
            "\u001b[0m    \u001b[0mrv = self.invoke(ctx)\u001b[0m\n",
            "\u001b[0m  File \"/usr/local/lib/python3.7/dist-packages/click/core.py\", line 1659, in invoke\n",
            "\u001b[0m    \u001b[0mreturn _process_result(sub_ctx.command.invoke(sub_ctx))\u001b[0m\n",
            "\u001b[0m  File \"/usr/local/lib/python3.7/dist-packages/click/core.py\", line 1395, in invoke\n",
            "\u001b[0m    \u001b[0mreturn ctx.invoke(self.callback, **ctx.params)\u001b[0m\n",
            "\u001b[0m  File \"/usr/local/lib/python3.7/dist-packages/click/core.py\", line 754, in invoke\n",
            "\u001b[0m    \u001b[0mreturn __callback(*args, **kwargs)\u001b[0m\n",
            "\u001b[0m  File \"/usr/local/lib/python3.7/dist-packages/ethereumetl/cli/export_token_transfers.py\", line 58, in export_token_transfers\n",
            "\u001b[0m    \u001b[0mjob.run()\u001b[0m\n",
            "\u001b[0m  File \"/usr/local/lib/python3.7/dist-packages/blockchainetl/jobs/base_job.py\", line 30, in run\n",
            "\u001b[0m    \u001b[0mself._end()\u001b[0m\n",
            "\u001b[0m  File \"/usr/local/lib/python3.7/dist-packages/ethereumetl/jobs/export_token_transfers_job.py\", line 97, in _end\n",
            "\u001b[0m    \u001b[0mself.batch_work_executor.shutdown()\u001b[0m\n",
            "\u001b[0m  File \"/usr/local/lib/python3.7/dist-packages/ethereumetl/executors/batch_work_executor.py\", line 97, in shutdown\n",
            "\u001b[0m    \u001b[0mself.executor.shutdown()\u001b[0m\n",
            "\u001b[0m  File \"/usr/local/lib/python3.7/dist-packages/ethereumetl/executors/fail_safe_executor.py\", line 39, in shutdown\n",
            "\u001b[0m    \u001b[0mself._check_completed_futures()\u001b[0m\n",
            "\u001b[0m  File \"/usr/local/lib/python3.7/dist-packages/ethereumetl/executors/fail_safe_executor.py\", line 47, in _check_completed_futures\n",
            "\u001b[0m    \u001b[0mfuture.result()\u001b[0m\n",
            "\u001b[0m  File \"/usr/lib/python3.7/concurrent/futures/_base.py\", line 428, in result\n",
            "\u001b[0m    \u001b[0mreturn self.__get_result()\u001b[0m\n",
            "\u001b[0m  File \"/usr/lib/python3.7/concurrent/futures/_base.py\", line 384, in __get_result\n",
            "\u001b[0m    \u001b[0mraise self._exception\u001b[0m\n",
            "\u001b[0m  File \"/usr/lib/python3.7/concurrent/futures/thread.py\", line 57, in run\n",
            "\u001b[0m    \u001b[0mresult = self.fn(*self.args, **self.kwargs)\u001b[0m\n",
            "\u001b[0m  File \"/usr/local/lib/python3.7/dist-packages/ethereumetl/executors/batch_work_executor.py\", line 63, in _fail_safe_execute\n",
            "\u001b[0m    \u001b[0mwork_handler(batch)\u001b[0m\n",
            "\u001b[0m  File \"/usr/local/lib/python3.7/dist-packages/ethereumetl/jobs/export_token_transfers_job.py\", line 86, in _export_batch\n",
            "\u001b[0m    \u001b[0mraise(e)\u001b[0m\n",
            "\u001b[0m  File \"/usr/local/lib/python3.7/dist-packages/ethereumetl/jobs/export_token_transfers_job.py\", line 80, in _export_batch\n",
            "\u001b[0m    \u001b[0mevents = event_filter.get_all_entries()\u001b[0m\n",
            "\u001b[0m  File \"/usr/local/lib/python3.7/dist-packages/web3/_utils/filters.py\", line 164, in get_all_entries\n",
            "\u001b[0m    \u001b[0mlog_entries = self._filter_valid_entries(self.eth_module.get_filter_logs(self.filter_id))\u001b[0m\n",
            "\u001b[0m  File \"/usr/local/lib/python3.7/dist-packages/web3/module.py\", line 60, in caller\n",
            "\u001b[0m    \u001b[0mnull_result_formatters)\u001b[0m\n",
            "\u001b[0m  File \"/usr/local/lib/python3.7/dist-packages/web3/manager.py\", line 201, in request_blocking\n",
            "\u001b[0m    \u001b[0mnull_result_formatters)\u001b[0m\n",
            "\u001b[0m  File \"/usr/local/lib/python3.7/dist-packages/web3/manager.py\", line 171, in formatted_response\n",
            "\u001b[0m    \u001b[0mraise ValueError(response[\"error\"])\u001b[0m\n",
            "\u001b[0mValueError\u001b[0m: \u001b[0m{'code': -32005, 'message': 'query returned more than 10000 results'}\u001b[0m\n",
            "\u001b[0m\u001b[0m"
          ]
        }
      ]
    },
    {
      "cell_type": "code",
      "source": [
        "df_token_transfers = pd.read_csv('./token_transfers.csv')\n",
        "display(df_token_transfers.head())"
      ],
      "metadata": {
        "colab": {
          "base_uri": "https://localhost:8080/",
          "height": 270
        },
        "id": "R1E-kNlVQa4O",
        "outputId": "e99bc66f-3aa6-496e-fb52-37ddbc60cff6"
      },
      "execution_count": null,
      "outputs": [
        {
          "output_type": "display_data",
          "data": {
            "text/plain": [
              "                                token_address  \\\n",
              "0  0x7bc25283a29a3888cab4555ea86ff1a8c18cc90a   \n",
              "1  0xba100000625a3754423978a60c9317c58a424e3d   \n",
              "2  0xc02aaa39b223fe8d0a0e5c4f27ead9083c756cc2   \n",
              "3  0xf0f74a3fda30ea87c9cf19d1f16db8e0c011075b   \n",
              "4  0xc00e94cb662c3520282e6f5717214004a7f26888   \n",
              "\n",
              "                                 from_address  \\\n",
              "0  0x0000000000000000000000000000000000000000   \n",
              "1  0xdc2c21f1b54ddaf39e944689a8f90cb844135cc9   \n",
              "2  0x4a137fd5e7a256ef08a7de531a17d0be0cc7b6b6   \n",
              "3  0x571b8569585483049ec3f0d7287b8e5b274332a0   \n",
              "4  0x2faf487a4414fe77e2327f0bf4ae2a264a776ad2   \n",
              "\n",
              "                                   to_address                      value  \\\n",
              "0  0x7caa9f43822e288782e3e8797c8a16774c689b3d                       7370   \n",
              "1  0x4a137fd5e7a256ef08a7de531a17d0be0cc7b6b6      706670242473581543022   \n",
              "2  0xdc2c21f1b54ddaf39e944689a8f90cb844135cc9        2824319950172341760   \n",
              "3  0xf0c85e6d2d75e74ef0bb30f63c28ec3105fd6768  1822762000000000000000000   \n",
              "4  0xa5c78f698392127644ce6492106c86b2f92f4d40      165311194320000000000   \n",
              "\n",
              "                                    transaction_hash  log_index  block_number  \n",
              "0  0x8fad774fd98423180fd70d205da74a97a7ecce9e2176...          0      15537493  \n",
              "1  0x333f03ef44bf9947c6b6d496826261f43f28b551808e...          1      15537493  \n",
              "2  0x333f03ef44bf9947c6b6d496826261f43f28b551808e...          2      15537493  \n",
              "3  0x16d2fcf28e360afa244579b485186522aa91d564fb6b...          5      15537493  \n",
              "4  0x05e23f413211ec4df9fbd3c7b6d5ab1e7b49b339f50b...          9      15537493  "
            ],
            "text/html": [
              "\n",
              "  <div id=\"df-12534d26-6fc6-476e-a861-ef0d58ea6d88\">\n",
              "    <div class=\"colab-df-container\">\n",
              "      <div>\n",
              "<style scoped>\n",
              "    .dataframe tbody tr th:only-of-type {\n",
              "        vertical-align: middle;\n",
              "    }\n",
              "\n",
              "    .dataframe tbody tr th {\n",
              "        vertical-align: top;\n",
              "    }\n",
              "\n",
              "    .dataframe thead th {\n",
              "        text-align: right;\n",
              "    }\n",
              "</style>\n",
              "<table border=\"1\" class=\"dataframe\">\n",
              "  <thead>\n",
              "    <tr style=\"text-align: right;\">\n",
              "      <th></th>\n",
              "      <th>token_address</th>\n",
              "      <th>from_address</th>\n",
              "      <th>to_address</th>\n",
              "      <th>value</th>\n",
              "      <th>transaction_hash</th>\n",
              "      <th>log_index</th>\n",
              "      <th>block_number</th>\n",
              "    </tr>\n",
              "  </thead>\n",
              "  <tbody>\n",
              "    <tr>\n",
              "      <th>0</th>\n",
              "      <td>0x7bc25283a29a3888cab4555ea86ff1a8c18cc90a</td>\n",
              "      <td>0x0000000000000000000000000000000000000000</td>\n",
              "      <td>0x7caa9f43822e288782e3e8797c8a16774c689b3d</td>\n",
              "      <td>7370</td>\n",
              "      <td>0x8fad774fd98423180fd70d205da74a97a7ecce9e2176...</td>\n",
              "      <td>0</td>\n",
              "      <td>15537493</td>\n",
              "    </tr>\n",
              "    <tr>\n",
              "      <th>1</th>\n",
              "      <td>0xba100000625a3754423978a60c9317c58a424e3d</td>\n",
              "      <td>0xdc2c21f1b54ddaf39e944689a8f90cb844135cc9</td>\n",
              "      <td>0x4a137fd5e7a256ef08a7de531a17d0be0cc7b6b6</td>\n",
              "      <td>706670242473581543022</td>\n",
              "      <td>0x333f03ef44bf9947c6b6d496826261f43f28b551808e...</td>\n",
              "      <td>1</td>\n",
              "      <td>15537493</td>\n",
              "    </tr>\n",
              "    <tr>\n",
              "      <th>2</th>\n",
              "      <td>0xc02aaa39b223fe8d0a0e5c4f27ead9083c756cc2</td>\n",
              "      <td>0x4a137fd5e7a256ef08a7de531a17d0be0cc7b6b6</td>\n",
              "      <td>0xdc2c21f1b54ddaf39e944689a8f90cb844135cc9</td>\n",
              "      <td>2824319950172341760</td>\n",
              "      <td>0x333f03ef44bf9947c6b6d496826261f43f28b551808e...</td>\n",
              "      <td>2</td>\n",
              "      <td>15537493</td>\n",
              "    </tr>\n",
              "    <tr>\n",
              "      <th>3</th>\n",
              "      <td>0xf0f74a3fda30ea87c9cf19d1f16db8e0c011075b</td>\n",
              "      <td>0x571b8569585483049ec3f0d7287b8e5b274332a0</td>\n",
              "      <td>0xf0c85e6d2d75e74ef0bb30f63c28ec3105fd6768</td>\n",
              "      <td>1822762000000000000000000</td>\n",
              "      <td>0x16d2fcf28e360afa244579b485186522aa91d564fb6b...</td>\n",
              "      <td>5</td>\n",
              "      <td>15537493</td>\n",
              "    </tr>\n",
              "    <tr>\n",
              "      <th>4</th>\n",
              "      <td>0xc00e94cb662c3520282e6f5717214004a7f26888</td>\n",
              "      <td>0x2faf487a4414fe77e2327f0bf4ae2a264a776ad2</td>\n",
              "      <td>0xa5c78f698392127644ce6492106c86b2f92f4d40</td>\n",
              "      <td>165311194320000000000</td>\n",
              "      <td>0x05e23f413211ec4df9fbd3c7b6d5ab1e7b49b339f50b...</td>\n",
              "      <td>9</td>\n",
              "      <td>15537493</td>\n",
              "    </tr>\n",
              "  </tbody>\n",
              "</table>\n",
              "</div>\n",
              "      <button class=\"colab-df-convert\" onclick=\"convertToInteractive('df-12534d26-6fc6-476e-a861-ef0d58ea6d88')\"\n",
              "              title=\"Convert this dataframe to an interactive table.\"\n",
              "              style=\"display:none;\">\n",
              "        \n",
              "  <svg xmlns=\"http://www.w3.org/2000/svg\" height=\"24px\"viewBox=\"0 0 24 24\"\n",
              "       width=\"24px\">\n",
              "    <path d=\"M0 0h24v24H0V0z\" fill=\"none\"/>\n",
              "    <path d=\"M18.56 5.44l.94 2.06.94-2.06 2.06-.94-2.06-.94-.94-2.06-.94 2.06-2.06.94zm-11 1L8.5 8.5l.94-2.06 2.06-.94-2.06-.94L8.5 2.5l-.94 2.06-2.06.94zm10 10l.94 2.06.94-2.06 2.06-.94-2.06-.94-.94-2.06-.94 2.06-2.06.94z\"/><path d=\"M17.41 7.96l-1.37-1.37c-.4-.4-.92-.59-1.43-.59-.52 0-1.04.2-1.43.59L10.3 9.45l-7.72 7.72c-.78.78-.78 2.05 0 2.83L4 21.41c.39.39.9.59 1.41.59.51 0 1.02-.2 1.41-.59l7.78-7.78 2.81-2.81c.8-.78.8-2.07 0-2.86zM5.41 20L4 18.59l7.72-7.72 1.47 1.35L5.41 20z\"/>\n",
              "  </svg>\n",
              "      </button>\n",
              "      \n",
              "  <style>\n",
              "    .colab-df-container {\n",
              "      display:flex;\n",
              "      flex-wrap:wrap;\n",
              "      gap: 12px;\n",
              "    }\n",
              "\n",
              "    .colab-df-convert {\n",
              "      background-color: #E8F0FE;\n",
              "      border: none;\n",
              "      border-radius: 50%;\n",
              "      cursor: pointer;\n",
              "      display: none;\n",
              "      fill: #1967D2;\n",
              "      height: 32px;\n",
              "      padding: 0 0 0 0;\n",
              "      width: 32px;\n",
              "    }\n",
              "\n",
              "    .colab-df-convert:hover {\n",
              "      background-color: #E2EBFA;\n",
              "      box-shadow: 0px 1px 2px rgba(60, 64, 67, 0.3), 0px 1px 3px 1px rgba(60, 64, 67, 0.15);\n",
              "      fill: #174EA6;\n",
              "    }\n",
              "\n",
              "    [theme=dark] .colab-df-convert {\n",
              "      background-color: #3B4455;\n",
              "      fill: #D2E3FC;\n",
              "    }\n",
              "\n",
              "    [theme=dark] .colab-df-convert:hover {\n",
              "      background-color: #434B5C;\n",
              "      box-shadow: 0px 1px 3px 1px rgba(0, 0, 0, 0.15);\n",
              "      filter: drop-shadow(0px 1px 2px rgba(0, 0, 0, 0.3));\n",
              "      fill: #FFFFFF;\n",
              "    }\n",
              "  </style>\n",
              "\n",
              "      <script>\n",
              "        const buttonEl =\n",
              "          document.querySelector('#df-12534d26-6fc6-476e-a861-ef0d58ea6d88 button.colab-df-convert');\n",
              "        buttonEl.style.display =\n",
              "          google.colab.kernel.accessAllowed ? 'block' : 'none';\n",
              "\n",
              "        async function convertToInteractive(key) {\n",
              "          const element = document.querySelector('#df-12534d26-6fc6-476e-a861-ef0d58ea6d88');\n",
              "          const dataTable =\n",
              "            await google.colab.kernel.invokeFunction('convertToInteractive',\n",
              "                                                     [key], {});\n",
              "          if (!dataTable) return;\n",
              "\n",
              "          const docLinkHtml = 'Like what you see? Visit the ' +\n",
              "            '<a target=\"_blank\" href=https://colab.research.google.com/notebooks/data_table.ipynb>data table notebook</a>'\n",
              "            + ' to learn more about interactive tables.';\n",
              "          element.innerHTML = '';\n",
              "          dataTable['output_type'] = 'display_data';\n",
              "          await google.colab.output.renderOutput(dataTable, element);\n",
              "          const docLink = document.createElement('div');\n",
              "          docLink.innerHTML = docLinkHtml;\n",
              "          element.appendChild(docLink);\n",
              "        }\n",
              "      </script>\n",
              "    </div>\n",
              "  </div>\n",
              "  "
            ]
          },
          "metadata": {}
        }
      ]
    },
    {
      "cell_type": "code",
      "source": [
        "df = df_token_transfers[df_token_transfers.token_address==\"0x7bc25283a29a3888cab4555ea86ff1a8c18cc90a\"]\n",
        "df.head()"
      ],
      "metadata": {
        "colab": {
          "base_uri": "https://localhost:8080/",
          "height": 270
        },
        "id": "MP99ywxlYcTa",
        "outputId": "9b1bb726-f842-4aa2-c3e2-032020688bd0"
      },
      "execution_count": null,
      "outputs": [
        {
          "output_type": "execute_result",
          "data": {
            "text/plain": [
              "                                  token_address  \\\n",
              "0    0x7bc25283a29a3888cab4555ea86ff1a8c18cc90a   \n",
              "21   0x7bc25283a29a3888cab4555ea86ff1a8c18cc90a   \n",
              "53   0x7bc25283a29a3888cab4555ea86ff1a8c18cc90a   \n",
              "111  0x7bc25283a29a3888cab4555ea86ff1a8c18cc90a   \n",
              "112  0x7bc25283a29a3888cab4555ea86ff1a8c18cc90a   \n",
              "\n",
              "                                   from_address  \\\n",
              "0    0x0000000000000000000000000000000000000000   \n",
              "21   0x0000000000000000000000000000000000000000   \n",
              "53   0x0000000000000000000000000000000000000000   \n",
              "111  0x9a0880acac6535dd97fb59e8126f6f04db1c880c   \n",
              "112  0xecc417cdbdce37dda762eb873b836e45cd2ec1e6   \n",
              "\n",
              "                                     to_address value  \\\n",
              "0    0x7caa9f43822e288782e3e8797c8a16774c689b3d  7370   \n",
              "21   0x8ed3670464936ec4507173222f9022aa55c365f5  7371   \n",
              "53   0x64cc2722481febcaa27afa12a52124209747e665  7372   \n",
              "111  0x699ad5d72c409330e7a9fa04b509db67c9cbe7b6  1404   \n",
              "112  0x699ad5d72c409330e7a9fa04b509db67c9cbe7b6  2201   \n",
              "\n",
              "                                      transaction_hash  log_index  \\\n",
              "0    0x8fad774fd98423180fd70d205da74a97a7ecce9e2176...          0   \n",
              "21   0x6f53dce148d29b74a8509199e6e37492dd17d0d044a4...         39   \n",
              "53   0x31719e78e6ca5b7dff6ec8927d7dbd9564edab988037...        110   \n",
              "111  0xa39cd4e1875a68512108abd701c61ab5cdec7f53c082...        261   \n",
              "112  0xa39cd4e1875a68512108abd701c61ab5cdec7f53c082...        263   \n",
              "\n",
              "     block_number  \n",
              "0        15537493  \n",
              "21       15537493  \n",
              "53       15537493  \n",
              "111      15537493  \n",
              "112      15537493  "
            ],
            "text/html": [
              "\n",
              "  <div id=\"df-debb8fad-5285-43b2-85af-309e073e4612\">\n",
              "    <div class=\"colab-df-container\">\n",
              "      <div>\n",
              "<style scoped>\n",
              "    .dataframe tbody tr th:only-of-type {\n",
              "        vertical-align: middle;\n",
              "    }\n",
              "\n",
              "    .dataframe tbody tr th {\n",
              "        vertical-align: top;\n",
              "    }\n",
              "\n",
              "    .dataframe thead th {\n",
              "        text-align: right;\n",
              "    }\n",
              "</style>\n",
              "<table border=\"1\" class=\"dataframe\">\n",
              "  <thead>\n",
              "    <tr style=\"text-align: right;\">\n",
              "      <th></th>\n",
              "      <th>token_address</th>\n",
              "      <th>from_address</th>\n",
              "      <th>to_address</th>\n",
              "      <th>value</th>\n",
              "      <th>transaction_hash</th>\n",
              "      <th>log_index</th>\n",
              "      <th>block_number</th>\n",
              "    </tr>\n",
              "  </thead>\n",
              "  <tbody>\n",
              "    <tr>\n",
              "      <th>0</th>\n",
              "      <td>0x7bc25283a29a3888cab4555ea86ff1a8c18cc90a</td>\n",
              "      <td>0x0000000000000000000000000000000000000000</td>\n",
              "      <td>0x7caa9f43822e288782e3e8797c8a16774c689b3d</td>\n",
              "      <td>7370</td>\n",
              "      <td>0x8fad774fd98423180fd70d205da74a97a7ecce9e2176...</td>\n",
              "      <td>0</td>\n",
              "      <td>15537493</td>\n",
              "    </tr>\n",
              "    <tr>\n",
              "      <th>21</th>\n",
              "      <td>0x7bc25283a29a3888cab4555ea86ff1a8c18cc90a</td>\n",
              "      <td>0x0000000000000000000000000000000000000000</td>\n",
              "      <td>0x8ed3670464936ec4507173222f9022aa55c365f5</td>\n",
              "      <td>7371</td>\n",
              "      <td>0x6f53dce148d29b74a8509199e6e37492dd17d0d044a4...</td>\n",
              "      <td>39</td>\n",
              "      <td>15537493</td>\n",
              "    </tr>\n",
              "    <tr>\n",
              "      <th>53</th>\n",
              "      <td>0x7bc25283a29a3888cab4555ea86ff1a8c18cc90a</td>\n",
              "      <td>0x0000000000000000000000000000000000000000</td>\n",
              "      <td>0x64cc2722481febcaa27afa12a52124209747e665</td>\n",
              "      <td>7372</td>\n",
              "      <td>0x31719e78e6ca5b7dff6ec8927d7dbd9564edab988037...</td>\n",
              "      <td>110</td>\n",
              "      <td>15537493</td>\n",
              "    </tr>\n",
              "    <tr>\n",
              "      <th>111</th>\n",
              "      <td>0x7bc25283a29a3888cab4555ea86ff1a8c18cc90a</td>\n",
              "      <td>0x9a0880acac6535dd97fb59e8126f6f04db1c880c</td>\n",
              "      <td>0x699ad5d72c409330e7a9fa04b509db67c9cbe7b6</td>\n",
              "      <td>1404</td>\n",
              "      <td>0xa39cd4e1875a68512108abd701c61ab5cdec7f53c082...</td>\n",
              "      <td>261</td>\n",
              "      <td>15537493</td>\n",
              "    </tr>\n",
              "    <tr>\n",
              "      <th>112</th>\n",
              "      <td>0x7bc25283a29a3888cab4555ea86ff1a8c18cc90a</td>\n",
              "      <td>0xecc417cdbdce37dda762eb873b836e45cd2ec1e6</td>\n",
              "      <td>0x699ad5d72c409330e7a9fa04b509db67c9cbe7b6</td>\n",
              "      <td>2201</td>\n",
              "      <td>0xa39cd4e1875a68512108abd701c61ab5cdec7f53c082...</td>\n",
              "      <td>263</td>\n",
              "      <td>15537493</td>\n",
              "    </tr>\n",
              "  </tbody>\n",
              "</table>\n",
              "</div>\n",
              "      <button class=\"colab-df-convert\" onclick=\"convertToInteractive('df-debb8fad-5285-43b2-85af-309e073e4612')\"\n",
              "              title=\"Convert this dataframe to an interactive table.\"\n",
              "              style=\"display:none;\">\n",
              "        \n",
              "  <svg xmlns=\"http://www.w3.org/2000/svg\" height=\"24px\"viewBox=\"0 0 24 24\"\n",
              "       width=\"24px\">\n",
              "    <path d=\"M0 0h24v24H0V0z\" fill=\"none\"/>\n",
              "    <path d=\"M18.56 5.44l.94 2.06.94-2.06 2.06-.94-2.06-.94-.94-2.06-.94 2.06-2.06.94zm-11 1L8.5 8.5l.94-2.06 2.06-.94-2.06-.94L8.5 2.5l-.94 2.06-2.06.94zm10 10l.94 2.06.94-2.06 2.06-.94-2.06-.94-.94-2.06-.94 2.06-2.06.94z\"/><path d=\"M17.41 7.96l-1.37-1.37c-.4-.4-.92-.59-1.43-.59-.52 0-1.04.2-1.43.59L10.3 9.45l-7.72 7.72c-.78.78-.78 2.05 0 2.83L4 21.41c.39.39.9.59 1.41.59.51 0 1.02-.2 1.41-.59l7.78-7.78 2.81-2.81c.8-.78.8-2.07 0-2.86zM5.41 20L4 18.59l7.72-7.72 1.47 1.35L5.41 20z\"/>\n",
              "  </svg>\n",
              "      </button>\n",
              "      \n",
              "  <style>\n",
              "    .colab-df-container {\n",
              "      display:flex;\n",
              "      flex-wrap:wrap;\n",
              "      gap: 12px;\n",
              "    }\n",
              "\n",
              "    .colab-df-convert {\n",
              "      background-color: #E8F0FE;\n",
              "      border: none;\n",
              "      border-radius: 50%;\n",
              "      cursor: pointer;\n",
              "      display: none;\n",
              "      fill: #1967D2;\n",
              "      height: 32px;\n",
              "      padding: 0 0 0 0;\n",
              "      width: 32px;\n",
              "    }\n",
              "\n",
              "    .colab-df-convert:hover {\n",
              "      background-color: #E2EBFA;\n",
              "      box-shadow: 0px 1px 2px rgba(60, 64, 67, 0.3), 0px 1px 3px 1px rgba(60, 64, 67, 0.15);\n",
              "      fill: #174EA6;\n",
              "    }\n",
              "\n",
              "    [theme=dark] .colab-df-convert {\n",
              "      background-color: #3B4455;\n",
              "      fill: #D2E3FC;\n",
              "    }\n",
              "\n",
              "    [theme=dark] .colab-df-convert:hover {\n",
              "      background-color: #434B5C;\n",
              "      box-shadow: 0px 1px 3px 1px rgba(0, 0, 0, 0.15);\n",
              "      filter: drop-shadow(0px 1px 2px rgba(0, 0, 0, 0.3));\n",
              "      fill: #FFFFFF;\n",
              "    }\n",
              "  </style>\n",
              "\n",
              "      <script>\n",
              "        const buttonEl =\n",
              "          document.querySelector('#df-debb8fad-5285-43b2-85af-309e073e4612 button.colab-df-convert');\n",
              "        buttonEl.style.display =\n",
              "          google.colab.kernel.accessAllowed ? 'block' : 'none';\n",
              "\n",
              "        async function convertToInteractive(key) {\n",
              "          const element = document.querySelector('#df-debb8fad-5285-43b2-85af-309e073e4612');\n",
              "          const dataTable =\n",
              "            await google.colab.kernel.invokeFunction('convertToInteractive',\n",
              "                                                     [key], {});\n",
              "          if (!dataTable) return;\n",
              "\n",
              "          const docLinkHtml = 'Like what you see? Visit the ' +\n",
              "            '<a target=\"_blank\" href=https://colab.research.google.com/notebooks/data_table.ipynb>data table notebook</a>'\n",
              "            + ' to learn more about interactive tables.';\n",
              "          element.innerHTML = '';\n",
              "          dataTable['output_type'] = 'display_data';\n",
              "          await google.colab.output.renderOutput(dataTable, element);\n",
              "          const docLink = document.createElement('div');\n",
              "          docLink.innerHTML = docLinkHtml;\n",
              "          element.appendChild(docLink);\n",
              "        }\n",
              "      </script>\n",
              "    </div>\n",
              "  </div>\n",
              "  "
            ]
          },
          "metadata": {},
          "execution_count": 61
        }
      ]
    },
    {
      "cell_type": "markdown",
      "source": [
        "### 3.1 Query a specific token transfers"
      ],
      "metadata": {
        "id": "4jiTdtxIR3Cp"
      }
    },
    {
      "cell_type": "markdown",
      "source": [
        "*references*:\n",
        "\n",
        "* Commond Documentations: https://ethereum-etl.readthedocs.io/en/latest/commands/\n",
        "* Token Address: https://github.com/blockchain-etl/ethereum-etl-airflow/blob/master/dags/resources/stages/seed/data/token_amendments.csv\n",
        "* More detailed: https://github.com/blockchain-etl/ethereum-etl-airflow\n",
        "* Proof-of-Reserve: https://blog.chain.link/stablecoins-and-proof-of-reserve/\n",
        "\n",
        "\n",
        "\n"
      ],
      "metadata": {
        "id": "04LJGJG5SOZX"
      }
    },
    {
      "cell_type": "code",
      "source": [
        "#@title Token Address\n",
        "token_address = \"0x0000000000085d4780b73119b644ae5ecd22b376\" #@param {type:\"string\"}\n"
      ],
      "metadata": {
        "id": "s5CVCTTtW_cG"
      },
      "execution_count": null,
      "outputs": []
    },
    {
      "cell_type": "markdown",
      "source": [
        "### USDP"
      ],
      "metadata": {
        "id": "caBoBDX7bS1m"
      }
    },
    {
      "cell_type": "code",
      "source": [
        "!ethereumetl export_token_transfers --start-block 15537293 --end-block 15537493 --provider-uri https://mainnet.infura.io/v3/API_kEY --output token_transfers_USDP.csv --tokens 0x8E870D67F660D95d5be530380D0eC0bd388289E1"
      ],
      "metadata": {
        "colab": {
          "base_uri": "https://localhost:8080/"
        },
        "id": "ZU2AcCV5bObT",
        "outputId": "dfe7e8cc-3f44-4217-eb7b-45a8263f7a74"
      },
      "execution_count": null,
      "outputs": [
        {
          "output_type": "stream",
          "name": "stdout",
          "text": [
            "2022-11-09 03:32:48,066 - ProgressLogger [INFO] - Started work. Items to process: 201.\n",
            "2022-11-09 03:32:48,286 - ProgressLogger [INFO] - 101 items processed. Progress is 50%.\n",
            "2022-11-09 03:32:48,296 - ProgressLogger [INFO] - 201 items processed. Progress is 100%.\n",
            "2022-11-09 03:32:48,297 - ProgressLogger [INFO] - Finished work. Total items processed: 201. Took 0:00:00.230822.\n",
            "2022-11-09 03:32:48,299 - CompositeItemExporter [INFO] - token_transfer items exported: 17\n",
            "\u001b[0m"
          ]
        }
      ]
    },
    {
      "cell_type": "code",
      "source": [
        "df_token_transfers_USDP = pd.read_csv('./token_transfers_TrueUSD.csv')\n",
        "display(df_token_transfers_USDP.head())"
      ],
      "metadata": {
        "colab": {
          "base_uri": "https://localhost:8080/",
          "height": 270
        },
        "id": "-0PuB2CDXGVt",
        "outputId": "e3841e1d-1672-48da-c85e-94f678d3a7f1"
      },
      "execution_count": null,
      "outputs": [
        {
          "output_type": "display_data",
          "data": {
            "text/plain": [
              "                                token_address  \\\n",
              "0  0x8e870d67f660d95d5be530380d0ec0bd388289e1   \n",
              "1  0x8e870d67f660d95d5be530380d0ec0bd388289e1   \n",
              "2  0x8e870d67f660d95d5be530380d0ec0bd388289e1   \n",
              "3  0x8e870d67f660d95d5be530380d0ec0bd388289e1   \n",
              "4  0x8e870d67f660d95d5be530380d0ec0bd388289e1   \n",
              "\n",
              "                                 from_address  \\\n",
              "0  0xd83d78108dd0d1dffff11ea3f99871671a52488b   \n",
              "1  0xd83d78108dd0d1dffff11ea3f99871671a52488b   \n",
              "2  0xf2f400c138f9fb900576263af0bc7fcde2b1b8a8   \n",
              "3  0xd83d78108dd0d1dffff11ea3f99871671a52488b   \n",
              "4  0xf2f400c138f9fb900576263af0bc7fcde2b1b8a8   \n",
              "\n",
              "                                   to_address                    value  \\\n",
              "0  0x0000e0ca771e21bd00057f54a68c30d400000000  17576853345269697620009   \n",
              "1  0xf2f400c138f9fb900576263af0bc7fcde2b1b8a8   3480815948226281452986   \n",
              "2  0xe5859f4efc09027a9b718781dcb2c6910cac6e91   3480815948226281452986   \n",
              "3  0xf2f400c138f9fb900576263af0bc7fcde2b1b8a8  14293862435057414594374   \n",
              "4  0x7bbd8ca5e413bca521c2c80d8d1908616894cf21  14293862435057414594374   \n",
              "\n",
              "                                    transaction_hash  log_index  block_number  \n",
              "0  0x39f085d88d1bf78e94de740578c20c478a9707509222...         22      15537309  \n",
              "1  0x1bb3be5326b6b1644ce0871c9c82a4ce23ba502011eb...        105      15537309  \n",
              "2  0x1bb3be5326b6b1644ce0871c9c82a4ce23ba502011eb...        109      15537309  \n",
              "3  0x264f6e130120a28874ffac7f44ce38565024f0c06745...        231      15537309  \n",
              "4  0x264f6e130120a28874ffac7f44ce38565024f0c06745...        236      15537309  "
            ],
            "text/html": [
              "\n",
              "  <div id=\"df-bd6e1439-4e6a-4bb7-8357-84c49ec7b90f\">\n",
              "    <div class=\"colab-df-container\">\n",
              "      <div>\n",
              "<style scoped>\n",
              "    .dataframe tbody tr th:only-of-type {\n",
              "        vertical-align: middle;\n",
              "    }\n",
              "\n",
              "    .dataframe tbody tr th {\n",
              "        vertical-align: top;\n",
              "    }\n",
              "\n",
              "    .dataframe thead th {\n",
              "        text-align: right;\n",
              "    }\n",
              "</style>\n",
              "<table border=\"1\" class=\"dataframe\">\n",
              "  <thead>\n",
              "    <tr style=\"text-align: right;\">\n",
              "      <th></th>\n",
              "      <th>token_address</th>\n",
              "      <th>from_address</th>\n",
              "      <th>to_address</th>\n",
              "      <th>value</th>\n",
              "      <th>transaction_hash</th>\n",
              "      <th>log_index</th>\n",
              "      <th>block_number</th>\n",
              "    </tr>\n",
              "  </thead>\n",
              "  <tbody>\n",
              "    <tr>\n",
              "      <th>0</th>\n",
              "      <td>0x8e870d67f660d95d5be530380d0ec0bd388289e1</td>\n",
              "      <td>0xd83d78108dd0d1dffff11ea3f99871671a52488b</td>\n",
              "      <td>0x0000e0ca771e21bd00057f54a68c30d400000000</td>\n",
              "      <td>17576853345269697620009</td>\n",
              "      <td>0x39f085d88d1bf78e94de740578c20c478a9707509222...</td>\n",
              "      <td>22</td>\n",
              "      <td>15537309</td>\n",
              "    </tr>\n",
              "    <tr>\n",
              "      <th>1</th>\n",
              "      <td>0x8e870d67f660d95d5be530380d0ec0bd388289e1</td>\n",
              "      <td>0xd83d78108dd0d1dffff11ea3f99871671a52488b</td>\n",
              "      <td>0xf2f400c138f9fb900576263af0bc7fcde2b1b8a8</td>\n",
              "      <td>3480815948226281452986</td>\n",
              "      <td>0x1bb3be5326b6b1644ce0871c9c82a4ce23ba502011eb...</td>\n",
              "      <td>105</td>\n",
              "      <td>15537309</td>\n",
              "    </tr>\n",
              "    <tr>\n",
              "      <th>2</th>\n",
              "      <td>0x8e870d67f660d95d5be530380d0ec0bd388289e1</td>\n",
              "      <td>0xf2f400c138f9fb900576263af0bc7fcde2b1b8a8</td>\n",
              "      <td>0xe5859f4efc09027a9b718781dcb2c6910cac6e91</td>\n",
              "      <td>3480815948226281452986</td>\n",
              "      <td>0x1bb3be5326b6b1644ce0871c9c82a4ce23ba502011eb...</td>\n",
              "      <td>109</td>\n",
              "      <td>15537309</td>\n",
              "    </tr>\n",
              "    <tr>\n",
              "      <th>3</th>\n",
              "      <td>0x8e870d67f660d95d5be530380d0ec0bd388289e1</td>\n",
              "      <td>0xd83d78108dd0d1dffff11ea3f99871671a52488b</td>\n",
              "      <td>0xf2f400c138f9fb900576263af0bc7fcde2b1b8a8</td>\n",
              "      <td>14293862435057414594374</td>\n",
              "      <td>0x264f6e130120a28874ffac7f44ce38565024f0c06745...</td>\n",
              "      <td>231</td>\n",
              "      <td>15537309</td>\n",
              "    </tr>\n",
              "    <tr>\n",
              "      <th>4</th>\n",
              "      <td>0x8e870d67f660d95d5be530380d0ec0bd388289e1</td>\n",
              "      <td>0xf2f400c138f9fb900576263af0bc7fcde2b1b8a8</td>\n",
              "      <td>0x7bbd8ca5e413bca521c2c80d8d1908616894cf21</td>\n",
              "      <td>14293862435057414594374</td>\n",
              "      <td>0x264f6e130120a28874ffac7f44ce38565024f0c06745...</td>\n",
              "      <td>236</td>\n",
              "      <td>15537309</td>\n",
              "    </tr>\n",
              "  </tbody>\n",
              "</table>\n",
              "</div>\n",
              "      <button class=\"colab-df-convert\" onclick=\"convertToInteractive('df-bd6e1439-4e6a-4bb7-8357-84c49ec7b90f')\"\n",
              "              title=\"Convert this dataframe to an interactive table.\"\n",
              "              style=\"display:none;\">\n",
              "        \n",
              "  <svg xmlns=\"http://www.w3.org/2000/svg\" height=\"24px\"viewBox=\"0 0 24 24\"\n",
              "       width=\"24px\">\n",
              "    <path d=\"M0 0h24v24H0V0z\" fill=\"none\"/>\n",
              "    <path d=\"M18.56 5.44l.94 2.06.94-2.06 2.06-.94-2.06-.94-.94-2.06-.94 2.06-2.06.94zm-11 1L8.5 8.5l.94-2.06 2.06-.94-2.06-.94L8.5 2.5l-.94 2.06-2.06.94zm10 10l.94 2.06.94-2.06 2.06-.94-2.06-.94-.94-2.06-.94 2.06-2.06.94z\"/><path d=\"M17.41 7.96l-1.37-1.37c-.4-.4-.92-.59-1.43-.59-.52 0-1.04.2-1.43.59L10.3 9.45l-7.72 7.72c-.78.78-.78 2.05 0 2.83L4 21.41c.39.39.9.59 1.41.59.51 0 1.02-.2 1.41-.59l7.78-7.78 2.81-2.81c.8-.78.8-2.07 0-2.86zM5.41 20L4 18.59l7.72-7.72 1.47 1.35L5.41 20z\"/>\n",
              "  </svg>\n",
              "      </button>\n",
              "      \n",
              "  <style>\n",
              "    .colab-df-container {\n",
              "      display:flex;\n",
              "      flex-wrap:wrap;\n",
              "      gap: 12px;\n",
              "    }\n",
              "\n",
              "    .colab-df-convert {\n",
              "      background-color: #E8F0FE;\n",
              "      border: none;\n",
              "      border-radius: 50%;\n",
              "      cursor: pointer;\n",
              "      display: none;\n",
              "      fill: #1967D2;\n",
              "      height: 32px;\n",
              "      padding: 0 0 0 0;\n",
              "      width: 32px;\n",
              "    }\n",
              "\n",
              "    .colab-df-convert:hover {\n",
              "      background-color: #E2EBFA;\n",
              "      box-shadow: 0px 1px 2px rgba(60, 64, 67, 0.3), 0px 1px 3px 1px rgba(60, 64, 67, 0.15);\n",
              "      fill: #174EA6;\n",
              "    }\n",
              "\n",
              "    [theme=dark] .colab-df-convert {\n",
              "      background-color: #3B4455;\n",
              "      fill: #D2E3FC;\n",
              "    }\n",
              "\n",
              "    [theme=dark] .colab-df-convert:hover {\n",
              "      background-color: #434B5C;\n",
              "      box-shadow: 0px 1px 3px 1px rgba(0, 0, 0, 0.15);\n",
              "      filter: drop-shadow(0px 1px 2px rgba(0, 0, 0, 0.3));\n",
              "      fill: #FFFFFF;\n",
              "    }\n",
              "  </style>\n",
              "\n",
              "      <script>\n",
              "        const buttonEl =\n",
              "          document.querySelector('#df-bd6e1439-4e6a-4bb7-8357-84c49ec7b90f button.colab-df-convert');\n",
              "        buttonEl.style.display =\n",
              "          google.colab.kernel.accessAllowed ? 'block' : 'none';\n",
              "\n",
              "        async function convertToInteractive(key) {\n",
              "          const element = document.querySelector('#df-bd6e1439-4e6a-4bb7-8357-84c49ec7b90f');\n",
              "          const dataTable =\n",
              "            await google.colab.kernel.invokeFunction('convertToInteractive',\n",
              "                                                     [key], {});\n",
              "          if (!dataTable) return;\n",
              "\n",
              "          const docLinkHtml = 'Like what you see? Visit the ' +\n",
              "            '<a target=\"_blank\" href=https://colab.research.google.com/notebooks/data_table.ipynb>data table notebook</a>'\n",
              "            + ' to learn more about interactive tables.';\n",
              "          element.innerHTML = '';\n",
              "          dataTable['output_type'] = 'display_data';\n",
              "          await google.colab.output.renderOutput(dataTable, element);\n",
              "          const docLink = document.createElement('div');\n",
              "          docLink.innerHTML = docLinkHtml;\n",
              "          element.appendChild(docLink);\n",
              "        }\n",
              "      </script>\n",
              "    </div>\n",
              "  </div>\n",
              "  "
            ]
          },
          "metadata": {}
        }
      ]
    },
    {
      "cell_type": "code",
      "source": [],
      "metadata": {
        "id": "3bMqGTzuXSmw"
      },
      "execution_count": null,
      "outputs": []
    }
  ]
}